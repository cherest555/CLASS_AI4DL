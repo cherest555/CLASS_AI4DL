{
  "cells": [
    {
      "cell_type": "markdown",
      "metadata": {
        "id": "ope0kAVQb268"
      },
      "source": [
        "This is a companion notebook for the book [Deep Learning with Python, Second Edition](https://www.manning.com/books/deep-learning-with-python-second-edition?a_aid=keras&a_bid=76564dff). For readability, it only contains runnable code blocks and section titles, and omits everything else in the book: text paragraphs, figures, and pseudocode.\n",
        "\n",
        "**If you want to be able to follow what's going on, I recommend reading the notebook side by side with your copy of the book.**\n",
        "\n",
        "This notebook was generated for TensorFlow 2.6."
      ]
    },
    {
      "cell_type": "markdown",
      "metadata": {
        "id": "75uQkk98b27D"
      },
      "source": [
        "# Fundamentals of machine learning"
      ]
    },
    {
      "cell_type": "markdown",
      "metadata": {
        "id": "-9jLNIwNb27E"
      },
      "source": [
        "## Generalization: The goal of machine learning"
      ]
    },
    {
      "cell_type": "markdown",
      "metadata": {
        "id": "JtG75tz6b27F"
      },
      "source": [
        "### Underfitting and overfitting"
      ]
    },
    {
      "cell_type": "markdown",
      "metadata": {
        "id": "a-gghAsDb27F"
      },
      "source": [
        "#### Noisy training data"
      ]
    },
    {
      "cell_type": "markdown",
      "metadata": {
        "id": "ctR8VAImb27F"
      },
      "source": [
        "#### Ambiguous features"
      ]
    },
    {
      "cell_type": "markdown",
      "metadata": {
        "id": "b1rDJadKb27F"
      },
      "source": [
        "#### Rare features and spurious correlations"
      ]
    },
    {
      "cell_type": "markdown",
      "metadata": {
        "id": "a5DtCfj3b27G"
      },
      "source": [
        "**Adding white-noise channels or all-zeros channels to MNIST**"
      ]
    },
    {
      "cell_type": "code",
      "execution_count": 4,
      "metadata": {
        "id": "6W47UD_Ub27G"
      },
      "outputs": [],
      "source": [
        "from tensorflow.keras.datasets import mnist\n",
        "import numpy as np\n",
        "\n",
        "(train_images, train_labels), _ = mnist.load_data()\n",
        "train_images = train_images.reshape((60000, 28 * 28))\n",
        "train_images = train_images.astype(\"float32\") / 255\n",
        "\n",
        "train_images_with_noise_channels = np.concatenate(\n",
        "    [train_images, np.random.random((len(train_images), 784))], axis=1)\n",
        "\n",
        "train_images_with_zeros_channels = np.concatenate(\n",
        "    [train_images, np.zeros((len(train_images), 784))], axis=1)"
      ]
    },
    {
      "cell_type": "markdown",
      "source": [
        "해당 코드는 MNIST 데이터셋에서 가져온 train_images와 train_labels를 전처리하는 코드입니다.\n",
        "\n",
        "먼저, mnist.load_data() 함수를 사용하여 MNIST 데이터셋을 로드합니다. 이 함수는 (train_images, train_labels), (test_images, test_labels) 형태의 튜플을 반환합니다. 하지만 해당 코드에서는 테스트 데이터를 사용하지 않으므로 두번째 튜플인 (test_images, test_labels)는 _ 변수로 무시됩니다.\n",
        "\n",
        "다음으로, train_images를 28x28 형태에서 784x1 형태의 벡터로 변환합니다. 이를 위해 reshape() 함수를 사용합니다.\n",
        "\n",
        "그리고 train_images를 0~1 사이의 실수(float32) 값으로 변환하고, train_images_with_noise_channels 변수에는 train_images와 같은 크기의 무작위 노이즈(784개의 채널)를 가진 배열을 이어붙여서 만듭니다. 이를 위해 np.concatenate() 함수를 사용합니다. 이렇게 만든 train_images_with_noise_channels 변수는 노이즈가 추가된 이미지 데이터셋입니다.\n",
        "\n",
        "마지막으로, train_images_with_zeros_channels 변수에는 train_images와 같은 크기의 0 값을 가진 배열을 이어붙여서 만듭니다. 이 역시 np.concatenate() 함수를 사용하여 만듭니다. 이렇게 만든 train_images_with_zeros_channels 변수는 흑백 이미지 데이터셋에서 모든 채널이 0인 데이터셋입니다.\n",
        "\n",
        "따라서, 해당 코드는 MNIST 데이터셋에서 가져온 train_images를 전처리하여 노이즈가 추가된 이미지 데이터셋과 모든 채널이 0인 이미지 데이터셋을 만드는 코드입니다."
      ],
      "metadata": {
        "id": "2nwtruvGeQ_E"
      }
    },
    {
      "cell_type": "markdown",
      "metadata": {
        "id": "1KHV7iPpb27H"
      },
      "source": [
        "**Training the same model on MNIST data with noise channels or all-zero channels**"
      ]
    },
    {
      "cell_type": "code",
      "execution_count": 5,
      "metadata": {
        "id": "Cv6BIHJnb27I",
        "outputId": "2c9f995f-2128-498a-cb91-45b8fe50658c",
        "colab": {
          "base_uri": "https://localhost:8080/"
        }
      },
      "outputs": [
        {
          "output_type": "stream",
          "name": "stdout",
          "text": [
            "Epoch 1/10\n",
            "375/375 [==============================] - 7s 4ms/step - loss: 0.6022 - accuracy: 0.8141 - val_loss: 0.4221 - val_accuracy: 0.8703\n",
            "Epoch 2/10\n",
            "375/375 [==============================] - 1s 3ms/step - loss: 0.2551 - accuracy: 0.9205 - val_loss: 0.1880 - val_accuracy: 0.9402\n",
            "Epoch 3/10\n",
            "375/375 [==============================] - 3s 8ms/step - loss: 0.1664 - accuracy: 0.9489 - val_loss: 0.1750 - val_accuracy: 0.9450\n",
            "Epoch 4/10\n",
            "375/375 [==============================] - 2s 5ms/step - loss: 0.1197 - accuracy: 0.9629 - val_loss: 0.1357 - val_accuracy: 0.9606\n",
            "Epoch 5/10\n",
            "375/375 [==============================] - 1s 3ms/step - loss: 0.0883 - accuracy: 0.9713 - val_loss: 0.1292 - val_accuracy: 0.9610\n",
            "Epoch 6/10\n",
            "375/375 [==============================] - 1s 3ms/step - loss: 0.0673 - accuracy: 0.9787 - val_loss: 0.1463 - val_accuracy: 0.9611\n",
            "Epoch 7/10\n",
            "375/375 [==============================] - 1s 3ms/step - loss: 0.0489 - accuracy: 0.9849 - val_loss: 0.1366 - val_accuracy: 0.9616\n",
            "Epoch 8/10\n",
            "375/375 [==============================] - 2s 6ms/step - loss: 0.0360 - accuracy: 0.9882 - val_loss: 0.1427 - val_accuracy: 0.9607\n",
            "Epoch 9/10\n",
            "375/375 [==============================] - 2s 5ms/step - loss: 0.0266 - accuracy: 0.9920 - val_loss: 0.1547 - val_accuracy: 0.9622\n",
            "Epoch 10/10\n",
            "375/375 [==============================] - 3s 7ms/step - loss: 0.0186 - accuracy: 0.9946 - val_loss: 0.1279 - val_accuracy: 0.9678\n",
            "Epoch 1/10\n",
            "375/375 [==============================] - 2s 4ms/step - loss: 0.2956 - accuracy: 0.9144 - val_loss: 0.1594 - val_accuracy: 0.9538\n",
            "Epoch 2/10\n",
            "375/375 [==============================] - 2s 5ms/step - loss: 0.1232 - accuracy: 0.9635 - val_loss: 0.1098 - val_accuracy: 0.9682\n",
            "Epoch 3/10\n",
            "375/375 [==============================] - 1s 4ms/step - loss: 0.0806 - accuracy: 0.9759 - val_loss: 0.0949 - val_accuracy: 0.9707\n",
            "Epoch 4/10\n",
            "375/375 [==============================] - 2s 5ms/step - loss: 0.0574 - accuracy: 0.9830 - val_loss: 0.0923 - val_accuracy: 0.9729\n",
            "Epoch 5/10\n",
            "375/375 [==============================] - 2s 5ms/step - loss: 0.0434 - accuracy: 0.9870 - val_loss: 0.0726 - val_accuracy: 0.9778\n",
            "Epoch 6/10\n",
            "375/375 [==============================] - 3s 8ms/step - loss: 0.0324 - accuracy: 0.9907 - val_loss: 0.0776 - val_accuracy: 0.9777\n",
            "Epoch 7/10\n",
            "375/375 [==============================] - 1s 3ms/step - loss: 0.0241 - accuracy: 0.9932 - val_loss: 0.0836 - val_accuracy: 0.9747\n",
            "Epoch 8/10\n",
            "375/375 [==============================] - 2s 5ms/step - loss: 0.0174 - accuracy: 0.9956 - val_loss: 0.0751 - val_accuracy: 0.9789\n",
            "Epoch 9/10\n",
            "375/375 [==============================] - 1s 3ms/step - loss: 0.0136 - accuracy: 0.9964 - val_loss: 0.0753 - val_accuracy: 0.9804\n",
            "Epoch 10/10\n",
            "375/375 [==============================] - 2s 6ms/step - loss: 0.0098 - accuracy: 0.9979 - val_loss: 0.0716 - val_accuracy: 0.9804\n",
            "Epoch 1/10\n",
            "375/375 [==============================] - 2s 4ms/step - loss: 0.2966 - accuracy: 0.9149 - val_loss: 0.1503 - val_accuracy: 0.9583\n",
            "Epoch 2/10\n",
            "375/375 [==============================] - 1s 4ms/step - loss: 0.1230 - accuracy: 0.9646 - val_loss: 0.1174 - val_accuracy: 0.9653\n",
            "Epoch 3/10\n",
            "375/375 [==============================] - 1s 3ms/step - loss: 0.0809 - accuracy: 0.9771 - val_loss: 0.0874 - val_accuracy: 0.9743\n",
            "Epoch 4/10\n",
            "375/375 [==============================] - 1s 3ms/step - loss: 0.0594 - accuracy: 0.9826 - val_loss: 0.0815 - val_accuracy: 0.9763\n",
            "Epoch 5/10\n",
            "375/375 [==============================] - 1s 3ms/step - loss: 0.0447 - accuracy: 0.9869 - val_loss: 0.0800 - val_accuracy: 0.9767\n",
            "Epoch 6/10\n",
            "375/375 [==============================] - 1s 3ms/step - loss: 0.0333 - accuracy: 0.9901 - val_loss: 0.0793 - val_accuracy: 0.9774\n",
            "Epoch 7/10\n",
            "375/375 [==============================] - 1s 4ms/step - loss: 0.0253 - accuracy: 0.9925 - val_loss: 0.0802 - val_accuracy: 0.9767\n",
            "Epoch 8/10\n",
            "375/375 [==============================] - 1s 3ms/step - loss: 0.0185 - accuracy: 0.9951 - val_loss: 0.0798 - val_accuracy: 0.9780\n",
            "Epoch 9/10\n",
            "375/375 [==============================] - 1s 3ms/step - loss: 0.0142 - accuracy: 0.9963 - val_loss: 0.0813 - val_accuracy: 0.9781\n",
            "Epoch 10/10\n",
            "375/375 [==============================] - 1s 3ms/step - loss: 0.0106 - accuracy: 0.9973 - val_loss: 0.0754 - val_accuracy: 0.9805\n"
          ]
        }
      ],
      "source": [
        "from tensorflow import keras\n",
        "from tensorflow.keras import layers\n",
        "\n",
        "def get_model():\n",
        "    model = keras.Sequential([\n",
        "        layers.Dense(512, activation=\"relu\"),\n",
        "        layers.Dense(10, activation=\"softmax\")\n",
        "    ])\n",
        "    model.compile(optimizer=\"rmsprop\",\n",
        "                  loss=\"sparse_categorical_crossentropy\",\n",
        "                  metrics=[\"accuracy\"])\n",
        "    return model\n",
        "\n",
        "model = get_model()\n",
        "history_noise = model.fit(\n",
        "    train_images_with_noise_channels, train_labels,\n",
        "    epochs=10,\n",
        "    batch_size=128,\n",
        "    validation_split=0.2)\n",
        "\n",
        "model = get_model()\n",
        "history_zeros = model.fit(\n",
        "    train_images_with_zeros_channels, train_labels,\n",
        "    epochs=10,\n",
        "    batch_size=128,\n",
        "    validation_split=0.2)\n",
        "\n",
        "model = get_model()\n",
        "history_original = model.fit(\n",
        "    train_images, train_labels,\n",
        "    epochs=10,\n",
        "    batch_size=128,\n",
        "    validation_split=0.2)"
      ]
    },
    {
      "cell_type": "markdown",
      "source": [
        "해당 코드는 전처리된 MNIST 데이터셋을 사용하여 모델을 학습시키는 코드입니다.\n",
        "\n",
        "먼저, get_model() 함수를 호출하여 모델을 생성합니다. 이 모델은 두 개의 Dense 레이어를 가지며, 첫 번째 레이어는 512개의 뉴런을 가진 완전 연결 레이어이며, 활성화 함수로는 ReLU를 사용합니다. 두 번째 레이어는 10개의 뉴런을 가진 완전 연결 레이어이며, 활성화 함수로는 소프트맥스를 사용합니다.\n",
        "\n",
        "모델의 컴파일 단계에서는 rmsprop 옵티마이저를 사용하여 모델을 컴파일하며, sparse_categorical_crossentropy 손실 함수를 사용합니다. 또한, accuracy 메트릭을 사용하여 모델의 정확도를 평가합니다.\n",
        "\n",
        "이후, model.fit() 함수를 사용하여 모델을 학습시킵니다. train_images_with_noise_channels나 train_images_with_zeros_channels 데이터셋을 입력값으로 사용하며, train_labels을 정답으로 사용합니다. epochs 인자는 전체 데이터셋에 대한 학습 횟수를 지정하며, batch_size 인자는 한 번에 처리할 데이터의 크기를 지정합니다. validation_split 인자는 검증 데이터셋으로 사용할 비율을 지정합니다. 이 함수는 모델 학습의 손실(loss)과 정확도(accuracy)를 기록한 history 객체를 반환합니다.\n",
        "\n",
        "따라서, 해당 코드는 노이즈가 추가된 이미지 데이터셋과 모든 채널이 0인 이미지 데이터셋을 사용하여 모델을 학습시키는 코드입니다."
      ],
      "metadata": {
        "id": "JryVU1zqec-u"
      }
    },
    {
      "cell_type": "markdown",
      "metadata": {
        "id": "w8BJf_4Sb27I"
      },
      "source": [
        "**Plotting a validation accuracy comparison**"
      ]
    },
    {
      "cell_type": "code",
      "execution_count": 6,
      "metadata": {
        "id": "MloNlqbob27J",
        "outputId": "79122b94-ab10-4ec3-b91d-2e996599030a",
        "colab": {
          "base_uri": "https://localhost:8080/",
          "height": 491
        }
      },
      "outputs": [
        {
          "output_type": "execute_result",
          "data": {
            "text/plain": [
              "<matplotlib.legend.Legend at 0x7f0865499460>"
            ]
          },
          "metadata": {},
          "execution_count": 6
        },
        {
          "output_type": "display_data",
          "data": {
            "text/plain": [
              "<Figure size 640x480 with 1 Axes>"
            ],
            "image/png": "[encoded data removed]"
          },
          "metadata": {}
        }
      ],
      "source": [
        "import matplotlib.pyplot as plt\n",
        "val_acc_noise = history_noise.history[\"val_accuracy\"]\n",
        "val_acc_zeros = history_zeros.history[\"val_accuracy\"]\n",
        "val_acc_original = history_original.history[\"val_accuracy\"]\n",
        "epochs = range(1, 11)\n",
        "plt.plot(epochs, val_acc_noise, \"b-\",\n",
        "         label=\"Validation accuracy with noise channels\")\n",
        "plt.plot(epochs, val_acc_zeros, \"b--\",\n",
        "         label=\"Validation accuracy with zeros channels\")\n",
        "plt.plot(epochs, val_acc_original, \"r--\",\n",
        "         label=\"Validation accuracy with original\")\n",
        "plt.title(\"Effect of noise channels on validation accuracy\")\n",
        "plt.xlabel(\"Epochs\")\n",
        "plt.ylabel(\"Accuracy\")\n",
        "plt.legend()"
      ]
    },
    {
      "cell_type": "markdown",
      "metadata": {
        "id": "JDovO6KHb27J"
      },
      "source": [
        "### The nature of generalization in deep learning"
      ]
    },
    {
      "cell_type": "markdown",
      "metadata": {
        "id": "yM8Jd7Umb27J"
      },
      "source": [
        "**Fitting a MNIST model with randomly shuffled labels**"
      ]
    },
    {
      "cell_type": "code",
      "execution_count": 7,
      "metadata": {
        "id": "hl4tTthOb27J",
        "outputId": "da009c67-f0f3-4ced-846c-775d89a2c1d2",
        "colab": {
          "base_uri": "https://localhost:8080/"
        }
      },
      "outputs": [
        {
          "output_type": "stream",
          "name": "stdout",
          "text": [
            "Epoch 1/100\n",
            "375/375 [==============================] - 2s 3ms/step - loss: 2.3150 - accuracy: 0.1038 - val_loss: 2.3053 - val_accuracy: 0.1049\n",
            "Epoch 2/100\n",
            "375/375 [==============================] - 1s 3ms/step - loss: 2.2992 - accuracy: 0.1129 - val_loss: 2.3124 - val_accuracy: 0.1038\n",
            "Epoch 3/100\n",
            "375/375 [==============================] - 2s 4ms/step - loss: 2.2907 - accuracy: 0.1274 - val_loss: 2.3128 - val_accuracy: 0.0977\n",
            "Epoch 4/100\n",
            "375/375 [==============================] - 1s 4ms/step - loss: 2.2784 - accuracy: 0.1404 - val_loss: 2.3274 - val_accuracy: 0.1066\n",
            "Epoch 5/100\n",
            "375/375 [==============================] - 1s 3ms/step - loss: 2.2626 - accuracy: 0.1500 - val_loss: 2.3366 - val_accuracy: 0.1065\n",
            "Epoch 6/100\n",
            "375/375 [==============================] - 1s 3ms/step - loss: 2.2438 - accuracy: 0.1661 - val_loss: 2.3495 - val_accuracy: 0.0996\n",
            "Epoch 7/100\n",
            "375/375 [==============================] - 1s 3ms/step - loss: 2.2194 - accuracy: 0.1786 - val_loss: 2.3616 - val_accuracy: 0.1008\n",
            "Epoch 8/100\n",
            "375/375 [==============================] - 1s 3ms/step - loss: 2.1935 - accuracy: 0.1963 - val_loss: 2.3827 - val_accuracy: 0.1021\n",
            "Epoch 9/100\n",
            "375/375 [==============================] - 1s 3ms/step - loss: 2.1653 - accuracy: 0.2119 - val_loss: 2.3947 - val_accuracy: 0.1027\n",
            "Epoch 10/100\n",
            "375/375 [==============================] - 1s 3ms/step - loss: 2.1327 - accuracy: 0.2280 - val_loss: 2.4173 - val_accuracy: 0.1041\n",
            "Epoch 11/100\n",
            "375/375 [==============================] - 1s 3ms/step - loss: 2.1001 - accuracy: 0.2434 - val_loss: 2.4394 - val_accuracy: 0.1013\n",
            "Epoch 12/100\n",
            "375/375 [==============================] - 1s 3ms/step - loss: 2.0660 - accuracy: 0.2603 - val_loss: 2.4622 - val_accuracy: 0.1041\n",
            "Epoch 13/100\n",
            "375/375 [==============================] - 2s 4ms/step - loss: 2.0283 - accuracy: 0.2783 - val_loss: 2.5009 - val_accuracy: 0.1007\n",
            "Epoch 14/100\n",
            "375/375 [==============================] - 1s 3ms/step - loss: 1.9892 - accuracy: 0.2943 - val_loss: 2.5354 - val_accuracy: 0.1008\n",
            "Epoch 15/100\n",
            "375/375 [==============================] - 1s 3ms/step - loss: 1.9519 - accuracy: 0.3109 - val_loss: 2.5454 - val_accuracy: 0.1016\n",
            "Epoch 16/100\n",
            "375/375 [==============================] - 1s 3ms/step - loss: 1.9139 - accuracy: 0.3275 - val_loss: 2.5940 - val_accuracy: 0.1029\n",
            "Epoch 17/100\n",
            "375/375 [==============================] - 1s 3ms/step - loss: 1.8748 - accuracy: 0.3422 - val_loss: 2.6326 - val_accuracy: 0.1008\n",
            "Epoch 18/100\n",
            "375/375 [==============================] - 1s 3ms/step - loss: 1.8367 - accuracy: 0.3574 - val_loss: 2.6623 - val_accuracy: 0.1041\n",
            "Epoch 19/100\n",
            "375/375 [==============================] - 1s 3ms/step - loss: 1.7991 - accuracy: 0.3736 - val_loss: 2.7142 - val_accuracy: 0.1012\n",
            "Epoch 20/100\n",
            "375/375 [==============================] - 1s 3ms/step - loss: 1.7609 - accuracy: 0.3886 - val_loss: 2.7352 - val_accuracy: 0.1026\n",
            "Epoch 21/100\n",
            "375/375 [==============================] - 1s 3ms/step - loss: 1.7227 - accuracy: 0.4034 - val_loss: 2.7798 - val_accuracy: 0.1012\n",
            "Epoch 22/100\n",
            "375/375 [==============================] - 1s 3ms/step - loss: 1.6845 - accuracy: 0.4186 - val_loss: 2.8235 - val_accuracy: 0.1019\n",
            "Epoch 23/100\n",
            "375/375 [==============================] - 2s 4ms/step - loss: 1.6491 - accuracy: 0.4316 - val_loss: 2.8767 - val_accuracy: 0.0971\n",
            "Epoch 24/100\n",
            "375/375 [==============================] - 1s 4ms/step - loss: 1.6130 - accuracy: 0.4467 - val_loss: 2.9281 - val_accuracy: 0.1002\n",
            "Epoch 25/100\n",
            "375/375 [==============================] - 1s 3ms/step - loss: 1.5800 - accuracy: 0.4603 - val_loss: 2.9640 - val_accuracy: 0.1018\n",
            "Epoch 26/100\n",
            "375/375 [==============================] - 1s 3ms/step - loss: 1.5454 - accuracy: 0.4727 - val_loss: 3.0286 - val_accuracy: 0.1002\n",
            "Epoch 27/100\n",
            "375/375 [==============================] - 1s 3ms/step - loss: 1.5134 - accuracy: 0.4855 - val_loss: 3.0709 - val_accuracy: 0.1009\n",
            "Epoch 28/100\n",
            "375/375 [==============================] - 1s 3ms/step - loss: 1.4792 - accuracy: 0.4956 - val_loss: 3.1040 - val_accuracy: 0.1022\n",
            "Epoch 29/100\n",
            "375/375 [==============================] - 1s 3ms/step - loss: 1.4482 - accuracy: 0.5082 - val_loss: 3.1497 - val_accuracy: 0.1018\n",
            "Epoch 30/100\n",
            "375/375 [==============================] - 1s 3ms/step - loss: 1.4173 - accuracy: 0.5209 - val_loss: 3.2340 - val_accuracy: 0.0993\n",
            "Epoch 31/100\n",
            "375/375 [==============================] - 1s 3ms/step - loss: 1.3841 - accuracy: 0.5319 - val_loss: 3.3021 - val_accuracy: 0.0992\n",
            "Epoch 32/100\n",
            "375/375 [==============================] - 1s 4ms/step - loss: 1.3555 - accuracy: 0.5443 - val_loss: 3.3107 - val_accuracy: 0.1026\n",
            "Epoch 33/100\n",
            "375/375 [==============================] - 2s 4ms/step - loss: 1.3265 - accuracy: 0.5526 - val_loss: 3.3807 - val_accuracy: 0.0987\n",
            "Epoch 34/100\n",
            "375/375 [==============================] - 1s 3ms/step - loss: 1.3011 - accuracy: 0.5625 - val_loss: 3.4147 - val_accuracy: 0.1018\n",
            "Epoch 35/100\n",
            "375/375 [==============================] - 1s 3ms/step - loss: 1.2713 - accuracy: 0.5724 - val_loss: 3.4750 - val_accuracy: 0.0974\n",
            "Epoch 36/100\n",
            "375/375 [==============================] - 1s 3ms/step - loss: 1.2435 - accuracy: 0.5836 - val_loss: 3.5146 - val_accuracy: 0.0968\n",
            "Epoch 37/100\n",
            "375/375 [==============================] - 1s 3ms/step - loss: 1.2184 - accuracy: 0.5935 - val_loss: 3.5717 - val_accuracy: 0.1018\n",
            "Epoch 38/100\n",
            "375/375 [==============================] - 1s 3ms/step - loss: 1.1940 - accuracy: 0.6008 - val_loss: 3.6249 - val_accuracy: 0.0993\n",
            "Epoch 39/100\n",
            "375/375 [==============================] - 1s 3ms/step - loss: 1.1676 - accuracy: 0.6114 - val_loss: 3.6958 - val_accuracy: 0.1010\n",
            "Epoch 40/100\n",
            "375/375 [==============================] - 1s 3ms/step - loss: 1.1429 - accuracy: 0.6208 - val_loss: 3.7656 - val_accuracy: 0.0992\n",
            "Epoch 41/100\n",
            "375/375 [==============================] - 1s 3ms/step - loss: 1.1202 - accuracy: 0.6278 - val_loss: 3.8198 - val_accuracy: 0.0998\n",
            "Epoch 42/100\n",
            "375/375 [==============================] - 1s 3ms/step - loss: 1.0976 - accuracy: 0.6349 - val_loss: 3.8943 - val_accuracy: 0.0984\n",
            "Epoch 43/100\n",
            "375/375 [==============================] - 2s 4ms/step - loss: 1.0735 - accuracy: 0.6422 - val_loss: 3.9228 - val_accuracy: 0.1015\n",
            "Epoch 44/100\n",
            "375/375 [==============================] - 1s 4ms/step - loss: 1.0511 - accuracy: 0.6538 - val_loss: 4.0351 - val_accuracy: 0.1004\n",
            "Epoch 45/100\n",
            "375/375 [==============================] - 1s 3ms/step - loss: 1.0288 - accuracy: 0.6593 - val_loss: 4.0758 - val_accuracy: 0.0999\n",
            "Epoch 46/100\n",
            "375/375 [==============================] - 1s 3ms/step - loss: 1.0069 - accuracy: 0.6668 - val_loss: 4.1177 - val_accuracy: 0.0984\n",
            "Epoch 47/100\n",
            "375/375 [==============================] - 1s 3ms/step - loss: 0.9858 - accuracy: 0.6748 - val_loss: 4.1961 - val_accuracy: 0.1002\n",
            "Epoch 48/100\n",
            "375/375 [==============================] - 1s 3ms/step - loss: 0.9678 - accuracy: 0.6798 - val_loss: 4.2326 - val_accuracy: 0.0967\n",
            "Epoch 49/100\n",
            "375/375 [==============================] - 1s 3ms/step - loss: 0.9464 - accuracy: 0.6881 - val_loss: 4.3221 - val_accuracy: 0.0969\n",
            "Epoch 50/100\n",
            "375/375 [==============================] - 1s 3ms/step - loss: 0.9267 - accuracy: 0.6970 - val_loss: 4.3716 - val_accuracy: 0.1025\n",
            "Epoch 51/100\n",
            "375/375 [==============================] - 1s 3ms/step - loss: 0.9084 - accuracy: 0.7029 - val_loss: 4.4472 - val_accuracy: 0.1025\n",
            "Epoch 52/100\n",
            "375/375 [==============================] - 1s 4ms/step - loss: 0.8891 - accuracy: 0.7077 - val_loss: 4.5207 - val_accuracy: 0.1003\n",
            "Epoch 53/100\n",
            "375/375 [==============================] - 2s 4ms/step - loss: 0.8725 - accuracy: 0.7145 - val_loss: 4.5556 - val_accuracy: 0.1000\n",
            "Epoch 54/100\n",
            "375/375 [==============================] - 1s 3ms/step - loss: 0.8553 - accuracy: 0.7205 - val_loss: 4.6710 - val_accuracy: 0.0961\n",
            "Epoch 55/100\n",
            "375/375 [==============================] - 1s 3ms/step - loss: 0.8378 - accuracy: 0.7265 - val_loss: 4.7165 - val_accuracy: 0.0972\n",
            "Epoch 56/100\n",
            "375/375 [==============================] - 1s 3ms/step - loss: 0.8204 - accuracy: 0.7325 - val_loss: 4.7781 - val_accuracy: 0.0997\n",
            "Epoch 57/100\n",
            "375/375 [==============================] - 1s 3ms/step - loss: 0.8030 - accuracy: 0.7401 - val_loss: 4.8707 - val_accuracy: 0.0971\n",
            "Epoch 58/100\n",
            "375/375 [==============================] - 1s 3ms/step - loss: 0.7879 - accuracy: 0.7432 - val_loss: 4.9655 - val_accuracy: 0.0954\n",
            "Epoch 59/100\n",
            "375/375 [==============================] - 1s 3ms/step - loss: 0.7705 - accuracy: 0.7504 - val_loss: 4.9676 - val_accuracy: 0.0975\n",
            "Epoch 60/100\n",
            "375/375 [==============================] - 1s 3ms/step - loss: 0.7575 - accuracy: 0.7542 - val_loss: 5.0377 - val_accuracy: 0.0976\n",
            "Epoch 61/100\n",
            "375/375 [==============================] - 1s 3ms/step - loss: 0.7405 - accuracy: 0.7608 - val_loss: 5.1639 - val_accuracy: 0.0989\n",
            "Epoch 62/100\n",
            "375/375 [==============================] - 2s 4ms/step - loss: 0.7264 - accuracy: 0.7654 - val_loss: 5.2061 - val_accuracy: 0.0960\n",
            "Epoch 63/100\n",
            "375/375 [==============================] - 2s 4ms/step - loss: 0.7100 - accuracy: 0.7715 - val_loss: 5.2973 - val_accuracy: 0.0993\n",
            "Epoch 64/100\n",
            "375/375 [==============================] - 1s 3ms/step - loss: 0.6973 - accuracy: 0.7749 - val_loss: 5.3285 - val_accuracy: 0.0997\n",
            "Epoch 65/100\n",
            "375/375 [==============================] - 2s 4ms/step - loss: 0.6854 - accuracy: 0.7793 - val_loss: 5.3914 - val_accuracy: 0.1003\n",
            "Epoch 66/100\n",
            "375/375 [==============================] - 1s 3ms/step - loss: 0.6715 - accuracy: 0.7834 - val_loss: 5.4732 - val_accuracy: 0.0989\n",
            "Epoch 67/100\n",
            "375/375 [==============================] - 1s 3ms/step - loss: 0.6568 - accuracy: 0.7899 - val_loss: 5.5528 - val_accuracy: 0.1000\n",
            "Epoch 68/100\n",
            "375/375 [==============================] - 1s 3ms/step - loss: 0.6449 - accuracy: 0.7928 - val_loss: 5.6535 - val_accuracy: 0.0983\n",
            "Epoch 69/100\n",
            "375/375 [==============================] - 1s 3ms/step - loss: 0.6323 - accuracy: 0.7983 - val_loss: 5.6809 - val_accuracy: 0.0977\n",
            "Epoch 70/100\n",
            "375/375 [==============================] - 1s 3ms/step - loss: 0.6184 - accuracy: 0.8020 - val_loss: 5.7461 - val_accuracy: 0.0993\n",
            "Epoch 71/100\n",
            "375/375 [==============================] - 1s 3ms/step - loss: 0.6093 - accuracy: 0.8054 - val_loss: 5.8399 - val_accuracy: 0.0997\n",
            "Epoch 72/100\n",
            "375/375 [==============================] - 2s 5ms/step - loss: 0.5976 - accuracy: 0.8097 - val_loss: 5.8706 - val_accuracy: 0.0987\n",
            "Epoch 73/100\n",
            "375/375 [==============================] - 2s 4ms/step - loss: 0.5857 - accuracy: 0.8128 - val_loss: 5.9819 - val_accuracy: 0.1004\n",
            "Epoch 74/100\n",
            "375/375 [==============================] - 1s 3ms/step - loss: 0.5745 - accuracy: 0.8184 - val_loss: 6.0566 - val_accuracy: 0.0992\n",
            "Epoch 75/100\n",
            "375/375 [==============================] - 1s 3ms/step - loss: 0.5635 - accuracy: 0.8226 - val_loss: 6.1579 - val_accuracy: 0.1001\n",
            "Epoch 76/100\n",
            "375/375 [==============================] - 1s 3ms/step - loss: 0.5526 - accuracy: 0.8248 - val_loss: 6.1999 - val_accuracy: 0.0995\n",
            "Epoch 77/100\n",
            "375/375 [==============================] - 1s 3ms/step - loss: 0.5422 - accuracy: 0.8301 - val_loss: 6.2715 - val_accuracy: 0.0971\n",
            "Epoch 78/100\n",
            "375/375 [==============================] - 1s 3ms/step - loss: 0.5314 - accuracy: 0.8322 - val_loss: 6.4372 - val_accuracy: 0.1009\n",
            "Epoch 79/100\n",
            "375/375 [==============================] - 1s 3ms/step - loss: 0.5208 - accuracy: 0.8368 - val_loss: 6.4273 - val_accuracy: 0.0967\n",
            "Epoch 80/100\n",
            "375/375 [==============================] - 1s 3ms/step - loss: 0.5116 - accuracy: 0.8390 - val_loss: 6.5194 - val_accuracy: 0.0983\n",
            "Epoch 81/100\n",
            "375/375 [==============================] - 2s 4ms/step - loss: 0.5022 - accuracy: 0.8411 - val_loss: 6.5533 - val_accuracy: 0.1023\n",
            "Epoch 82/100\n",
            "375/375 [==============================] - 2s 4ms/step - loss: 0.4927 - accuracy: 0.8442 - val_loss: 6.6729 - val_accuracy: 0.0986\n",
            "Epoch 83/100\n",
            "375/375 [==============================] - 1s 3ms/step - loss: 0.4860 - accuracy: 0.8462 - val_loss: 6.7132 - val_accuracy: 0.0995\n",
            "Epoch 84/100\n",
            "375/375 [==============================] - 1s 3ms/step - loss: 0.4756 - accuracy: 0.8482 - val_loss: 6.7635 - val_accuracy: 0.1013\n",
            "Epoch 85/100\n",
            "375/375 [==============================] - 1s 3ms/step - loss: 0.4655 - accuracy: 0.8522 - val_loss: 6.8977 - val_accuracy: 0.0997\n",
            "Epoch 86/100\n",
            "375/375 [==============================] - 1s 3ms/step - loss: 0.4582 - accuracy: 0.8560 - val_loss: 6.9082 - val_accuracy: 0.1002\n",
            "Epoch 87/100\n",
            "375/375 [==============================] - 2s 4ms/step - loss: 0.4494 - accuracy: 0.8577 - val_loss: 6.9962 - val_accuracy: 0.0993\n",
            "Epoch 88/100\n",
            "375/375 [==============================] - 1s 3ms/step - loss: 0.4423 - accuracy: 0.8613 - val_loss: 7.1225 - val_accuracy: 0.0999\n",
            "Epoch 89/100\n",
            "375/375 [==============================] - 1s 3ms/step - loss: 0.4328 - accuracy: 0.8641 - val_loss: 7.1663 - val_accuracy: 0.1007\n",
            "Epoch 90/100\n",
            "375/375 [==============================] - 1s 3ms/step - loss: 0.4258 - accuracy: 0.8662 - val_loss: 7.2452 - val_accuracy: 0.0988\n",
            "Epoch 91/100\n",
            "375/375 [==============================] - 2s 5ms/step - loss: 0.4176 - accuracy: 0.8696 - val_loss: 7.2994 - val_accuracy: 0.0997\n",
            "Epoch 92/100\n",
            "375/375 [==============================] - 1s 3ms/step - loss: 0.4105 - accuracy: 0.8740 - val_loss: 7.3995 - val_accuracy: 0.1001\n",
            "Epoch 93/100\n",
            "375/375 [==============================] - 1s 3ms/step - loss: 0.4049 - accuracy: 0.8739 - val_loss: 7.5589 - val_accuracy: 0.0993\n",
            "Epoch 94/100\n",
            "375/375 [==============================] - 1s 3ms/step - loss: 0.3949 - accuracy: 0.8790 - val_loss: 7.5640 - val_accuracy: 0.0971\n",
            "Epoch 95/100\n",
            "375/375 [==============================] - 1s 3ms/step - loss: 0.3888 - accuracy: 0.8791 - val_loss: 7.5929 - val_accuracy: 0.0985\n",
            "Epoch 96/100\n",
            "375/375 [==============================] - 1s 3ms/step - loss: 0.3837 - accuracy: 0.8810 - val_loss: 7.7202 - val_accuracy: 0.1002\n",
            "Epoch 97/100\n",
            "375/375 [==============================] - 1s 3ms/step - loss: 0.3754 - accuracy: 0.8825 - val_loss: 7.7896 - val_accuracy: 0.1006\n",
            "Epoch 98/100\n",
            "375/375 [==============================] - 1s 3ms/step - loss: 0.3679 - accuracy: 0.8880 - val_loss: 7.8892 - val_accuracy: 0.1002\n",
            "Epoch 99/100\n",
            "375/375 [==============================] - 1s 3ms/step - loss: 0.3637 - accuracy: 0.8887 - val_loss: 7.9308 - val_accuracy: 0.1003\n",
            "Epoch 100/100\n",
            "375/375 [==============================] - 1s 4ms/step - loss: 0.3554 - accuracy: 0.8911 - val_loss: 8.0781 - val_accuracy: 0.1000\n"
          ]
        },
        {
          "output_type": "execute_result",
          "data": {
            "text/plain": [
              "<keras.callbacks.History at 0x7f08645de850>"
            ]
          },
          "metadata": {},
          "execution_count": 7
        }
      ],
      "source": [
        "(train_images, train_labels), _ = mnist.load_data()\n",
        "train_images = train_images.reshape((60000, 28 * 28))\n",
        "train_images = train_images.astype(\"float32\") / 255\n",
        "\n",
        "random_train_labels = train_labels[:]\n",
        "np.random.shuffle(random_train_labels)\n",
        "\n",
        "model = keras.Sequential([\n",
        "    layers.Dense(512, activation=\"relu\"),\n",
        "    layers.Dense(10, activation=\"softmax\")\n",
        "])\n",
        "model.compile(optimizer=\"rmsprop\",\n",
        "              loss=\"sparse_categorical_crossentropy\",\n",
        "              metrics=[\"accuracy\"])\n",
        "model.fit(train_images, random_train_labels,\n",
        "          epochs=100,\n",
        "          batch_size=128,\n",
        "          validation_split=0.2)"
      ]
    },
    {
      "cell_type": "markdown",
      "source": [
        "위 코드는 MNIST 데이터셋으로 모델을 학습시키는 코드입니다. 학습 데이터인 train_images는 (60000, 784) 크기로 reshape되고, 각 픽셀 값은 0에서 255 사이의 값에서 0에서 1 사이의 값으로 스케일링됩니다.\n",
        "\n",
        "그 다음 코드에서 train_labels의 복사본을 만들고, 이를 np.random.shuffle() 함수를 사용하여 임의로 섞은 random_train_labels로 대체합니다. 이렇게 함으로써, 학습 데이터의 레이블이 무작위로 섞여 모델이 학습하는 과정에서 레이블의 순서가 변하게 됩니다.\n",
        "\n",
        "마지막으로, 모델의 구조를 정의하고 컴파일한 후, fit() 함수를 호출하여 모델을 학습시킵니다. fit() 함수는 train_images와 random_train_labels를 입력으로 받아서, 이를 사용하여 모델을 학습합니다. epochs와 batch_size는 각각 에포크 수와 배치 크기를 의미하며, validation_split은 검증 데이터셋을 사용할 비율을 의미합니다. 즉, 전체 학습 데이터 중 20%를 검증 데이터셋으로 사용합니다.\n",
        "\n",
        "이 모델은 100번의 에포크 동안 학습됩니다."
      ],
      "metadata": {
        "id": "hisdinOShrFY"
      }
    },
    {
      "cell_type": "markdown",
      "metadata": {
        "id": "xAMtUGVQb27K"
      },
      "source": [
        "#### The manifold hypothesis"
      ]
    },
    {
      "cell_type": "markdown",
      "metadata": {
        "id": "WeBIGwH5b27K"
      },
      "source": [
        "#### Interpolation as a source of generalization"
      ]
    },
    {
      "cell_type": "markdown",
      "metadata": {
        "id": "G_WTk7k4b27K"
      },
      "source": [
        "#### Why deep learning works"
      ]
    },
    {
      "cell_type": "markdown",
      "metadata": {
        "id": "TVHwk4Amb27K"
      },
      "source": [
        "#### Training data is paramount"
      ]
    },
    {
      "cell_type": "markdown",
      "metadata": {
        "id": "95eojcnwb27K"
      },
      "source": [
        "## Evaluating machine-learning models"
      ]
    },
    {
      "cell_type": "markdown",
      "metadata": {
        "id": "BueoGvFib27K"
      },
      "source": [
        "### Training, validation, and test sets"
      ]
    },
    {
      "cell_type": "markdown",
      "metadata": {
        "id": "XPJAehBBb27K"
      },
      "source": [
        "#### Simple hold-out validation"
      ]
    },
    {
      "cell_type": "markdown",
      "metadata": {
        "id": "_7kJF3pHb27L"
      },
      "source": [
        "#### K-fold validation"
      ]
    },
    {
      "cell_type": "markdown",
      "metadata": {
        "id": "7htSyNMgb27L"
      },
      "source": [
        "#### Iterated K-fold validation with shuffling"
      ]
    },
    {
      "cell_type": "markdown",
      "metadata": {
        "id": "LIsL7IwYb27L"
      },
      "source": [
        "### Beating a common-sense baseline"
      ]
    },
    {
      "cell_type": "markdown",
      "metadata": {
        "id": "BOShhYyib27L"
      },
      "source": [
        "### Things to keep in mind about model evaluation"
      ]
    },
    {
      "cell_type": "markdown",
      "metadata": {
        "id": "Qbs4NZ4qb27L"
      },
      "source": [
        "## Improving model fit"
      ]
    },
    {
      "cell_type": "markdown",
      "metadata": {
        "id": "BGev94M6b27L"
      },
      "source": [
        "### Tuning key gradient descent parameters"
      ]
    },
    {
      "cell_type": "markdown",
      "source": [
        "\"Key gradient descent parameters\"란 경사 하강법(gradient descent) 알고리즘에서 중요한 역할을 하는 하이퍼파라미터(hyperparameters)들을 의미합니다. 예를 들어, 학습률(learning rate), 배치 크기(batch size), 에포크 수(epochs) 등이 이에 해당합니다.\n",
        "\n",
        "\"Tuning\"이란 이러한 하이퍼파라미터를 적절하게 조정하여 모델의 성능을 최적화하는 것을 말합니다. 이는 모델의 학습 속도, 일반화 능력, 과적합(overfitting) 등에 영향을 미칩니다. 따라서, 경사 하강법 알고리즘에서 이러한 하이퍼파라미터들을 적절히 조정하는 것은 모델의 최종 성능을 향상시키는 중요한 요소 중 하나입니다."
      ],
      "metadata": {
        "id": "x2boBekslAP7"
      }
    },
    {
      "cell_type": "markdown",
      "metadata": {
        "id": "w-kucfFYb27L"
      },
      "source": [
        "**Training a MNIST model with an incorrectly high learning rate**"
      ]
    },
    {
      "cell_type": "code",
      "execution_count": 8,
      "metadata": {
        "id": "kp6aalMdb27L",
        "outputId": "0d8f861c-aea6-4477-dda5-6d40d326dad9",
        "colab": {
          "base_uri": "https://localhost:8080/"
        }
      },
      "outputs": [
        {
          "output_type": "stream",
          "name": "stdout",
          "text": [
            "Epoch 1/10\n",
            "375/375 [==============================] - 2s 4ms/step - loss: 528.5719 - accuracy: 0.2982 - val_loss: 2.4493 - val_accuracy: 0.2065\n",
            "Epoch 2/10\n",
            "375/375 [==============================] - 1s 3ms/step - loss: 2.7374 - accuracy: 0.1985 - val_loss: 2.2469 - val_accuracy: 0.2319\n",
            "Epoch 3/10\n",
            "375/375 [==============================] - 1s 3ms/step - loss: 2.4120 - accuracy: 0.1930 - val_loss: 2.2688 - val_accuracy: 0.1891\n",
            "Epoch 4/10\n",
            "375/375 [==============================] - 1s 3ms/step - loss: 2.6293 - accuracy: 0.1906 - val_loss: 3.2025 - val_accuracy: 0.2025\n",
            "Epoch 5/10\n",
            "375/375 [==============================] - 1s 3ms/step - loss: 2.5693 - accuracy: 0.1902 - val_loss: 2.2559 - val_accuracy: 0.1981\n",
            "Epoch 6/10\n",
            "375/375 [==============================] - 1s 3ms/step - loss: 2.3177 - accuracy: 0.1894 - val_loss: 2.1156 - val_accuracy: 0.1873\n",
            "Epoch 7/10\n",
            "375/375 [==============================] - 1s 3ms/step - loss: 2.4248 - accuracy: 0.1809 - val_loss: 2.3140 - val_accuracy: 0.1709\n",
            "Epoch 8/10\n",
            "375/375 [==============================] - 1s 3ms/step - loss: 2.4106 - accuracy: 0.1815 - val_loss: 2.3212 - val_accuracy: 0.1761\n",
            "Epoch 9/10\n",
            "375/375 [==============================] - 1s 4ms/step - loss: 2.3370 - accuracy: 0.1887 - val_loss: 2.3541 - val_accuracy: 0.1908\n",
            "Epoch 10/10\n",
            "375/375 [==============================] - 2s 4ms/step - loss: 2.3117 - accuracy: 0.1864 - val_loss: 2.3177 - val_accuracy: 0.1743\n"
          ]
        },
        {
          "output_type": "execute_result",
          "data": {
            "text/plain": [
              "<keras.callbacks.History at 0x7f08644a5a60>"
            ]
          },
          "metadata": {},
          "execution_count": 8
        }
      ],
      "source": [
        "(train_images, train_labels), _ = mnist.load_data()\n",
        "train_images = train_images.reshape((60000, 28 * 28))\n",
        "train_images = train_images.astype(\"float32\") / 255\n",
        "\n",
        "model = keras.Sequential([\n",
        "    layers.Dense(512, activation=\"relu\"),\n",
        "    layers.Dense(10, activation=\"softmax\")\n",
        "])\n",
        "model.compile(optimizer=keras.optimizers.RMSprop(1.),\n",
        "              loss=\"sparse_categorical_crossentropy\",\n",
        "              metrics=[\"accuracy\"])\n",
        "model.fit(train_images, train_labels,\n",
        "          epochs=10,\n",
        "          batch_size=128,\n",
        "          validation_split=0.2)"
      ]
    },
    {
      "cell_type": "markdown",
      "metadata": {
        "id": "yAN-_-g2b27M"
      },
      "source": [
        "**The same model with a more appropriate learning rate**"
      ]
    },
    {
      "cell_type": "code",
      "execution_count": 9,
      "metadata": {
        "id": "ZHEO-ILfb27M",
        "outputId": "d601436a-2209-4b49-db9c-ac6f40f94c71",
        "colab": {
          "base_uri": "https://localhost:8080/"
        }
      },
      "outputs": [
        {
          "output_type": "stream",
          "name": "stdout",
          "text": [
            "Epoch 1/10\n",
            "375/375 [==============================] - 2s 4ms/step - loss: 0.3411 - accuracy: 0.9123 - val_loss: 0.1316 - val_accuracy: 0.9613\n",
            "Epoch 2/10\n",
            "375/375 [==============================] - 1s 3ms/step - loss: 0.1264 - accuracy: 0.9650 - val_loss: 0.1441 - val_accuracy: 0.9653\n",
            "Epoch 3/10\n",
            "375/375 [==============================] - 1s 3ms/step - loss: 0.0978 - accuracy: 0.9749 - val_loss: 0.1561 - val_accuracy: 0.9661\n",
            "Epoch 4/10\n",
            "375/375 [==============================] - 1s 3ms/step - loss: 0.0791 - accuracy: 0.9800 - val_loss: 0.1655 - val_accuracy: 0.9703\n",
            "Epoch 5/10\n",
            "375/375 [==============================] - 1s 3ms/step - loss: 0.0723 - accuracy: 0.9830 - val_loss: 0.1929 - val_accuracy: 0.9672\n",
            "Epoch 6/10\n",
            "375/375 [==============================] - 1s 3ms/step - loss: 0.0604 - accuracy: 0.9852 - val_loss: 0.1830 - val_accuracy: 0.9714\n",
            "Epoch 7/10\n",
            "375/375 [==============================] - 1s 3ms/step - loss: 0.0537 - accuracy: 0.9869 - val_loss: 0.1947 - val_accuracy: 0.9712\n",
            "Epoch 8/10\n",
            "375/375 [==============================] - 1s 4ms/step - loss: 0.0492 - accuracy: 0.9881 - val_loss: 0.2177 - val_accuracy: 0.9714\n",
            "Epoch 9/10\n",
            "375/375 [==============================] - 2s 4ms/step - loss: 0.0484 - accuracy: 0.9895 - val_loss: 0.2338 - val_accuracy: 0.9709\n",
            "Epoch 10/10\n",
            "375/375 [==============================] - 1s 3ms/step - loss: 0.0412 - accuracy: 0.9909 - val_loss: 0.2529 - val_accuracy: 0.9703\n"
          ]
        },
        {
          "output_type": "execute_result",
          "data": {
            "text/plain": [
              "<keras.callbacks.History at 0x7f0864347340>"
            ]
          },
          "metadata": {},
          "execution_count": 9
        }
      ],
      "source": [
        "model = keras.Sequential([\n",
        "    layers.Dense(512, activation=\"relu\"),\n",
        "    layers.Dense(10, activation=\"softmax\")\n",
        "])\n",
        "model.compile(optimizer=keras.optimizers.RMSprop(1e-2),\n",
        "              loss=\"sparse_categorical_crossentropy\",\n",
        "              metrics=[\"accuracy\"])\n",
        "model.fit(train_images, train_labels,\n",
        "          epochs=10,\n",
        "          batch_size=128,\n",
        "          validation_split=0.2)"
      ]
    },
    {
      "cell_type": "markdown",
      "metadata": {
        "id": "svNPcCU6b27M"
      },
      "source": [
        "### Leveraging better architecture priors"
      ]
    },
    {
      "cell_type": "markdown",
      "metadata": {
        "id": "bMeyXKKmb27M"
      },
      "source": [
        "### Increasing model capacity"
      ]
    },
    {
      "cell_type": "markdown",
      "metadata": {
        "id": "nY-M6qyVb27N"
      },
      "source": [
        "**A simple logistic regression on MNIST**"
      ]
    },
    {
      "cell_type": "code",
      "execution_count": 10,
      "metadata": {
        "id": "Z_hLc-KWb27N",
        "outputId": "e7eb8205-7d4c-4f7d-abb7-2aa2151b1fbc",
        "colab": {
          "base_uri": "https://localhost:8080/"
        }
      },
      "outputs": [
        {
          "output_type": "stream",
          "name": "stdout",
          "text": [
            "Epoch 1/20\n",
            "375/375 [==============================] - 2s 4ms/step - loss: 0.6541 - accuracy: 0.8420 - val_loss: 0.3593 - val_accuracy: 0.9035\n",
            "Epoch 2/20\n",
            "375/375 [==============================] - 1s 3ms/step - loss: 0.3527 - accuracy: 0.9028 - val_loss: 0.3092 - val_accuracy: 0.9155\n",
            "Epoch 3/20\n",
            "375/375 [==============================] - 1s 3ms/step - loss: 0.3179 - accuracy: 0.9119 - val_loss: 0.2938 - val_accuracy: 0.9186\n",
            "Epoch 4/20\n",
            "375/375 [==============================] - 1s 3ms/step - loss: 0.3018 - accuracy: 0.9161 - val_loss: 0.2855 - val_accuracy: 0.9202\n",
            "Epoch 5/20\n",
            "375/375 [==============================] - 1s 3ms/step - loss: 0.2922 - accuracy: 0.9181 - val_loss: 0.2782 - val_accuracy: 0.9237\n",
            "Epoch 6/20\n",
            "375/375 [==============================] - 1s 3ms/step - loss: 0.2854 - accuracy: 0.9208 - val_loss: 0.2744 - val_accuracy: 0.9252\n",
            "Epoch 7/20\n",
            "375/375 [==============================] - 1s 3ms/step - loss: 0.2807 - accuracy: 0.9217 - val_loss: 0.2706 - val_accuracy: 0.9265\n",
            "Epoch 8/20\n",
            "375/375 [==============================] - 1s 3ms/step - loss: 0.2766 - accuracy: 0.9229 - val_loss: 0.2694 - val_accuracy: 0.9258\n",
            "Epoch 9/20\n",
            "375/375 [==============================] - 1s 3ms/step - loss: 0.2735 - accuracy: 0.9237 - val_loss: 0.2685 - val_accuracy: 0.9269\n",
            "Epoch 10/20\n",
            "375/375 [==============================] - 1s 3ms/step - loss: 0.2707 - accuracy: 0.9255 - val_loss: 0.2672 - val_accuracy: 0.9277\n",
            "Epoch 11/20\n",
            "375/375 [==============================] - 1s 3ms/step - loss: 0.2685 - accuracy: 0.9263 - val_loss: 0.2662 - val_accuracy: 0.9267\n",
            "Epoch 12/20\n",
            "375/375 [==============================] - 1s 4ms/step - loss: 0.2663 - accuracy: 0.9260 - val_loss: 0.2655 - val_accuracy: 0.9279\n",
            "Epoch 13/20\n",
            "375/375 [==============================] - 1s 3ms/step - loss: 0.2648 - accuracy: 0.9274 - val_loss: 0.2651 - val_accuracy: 0.9283\n",
            "Epoch 14/20\n",
            "375/375 [==============================] - 1s 3ms/step - loss: 0.2631 - accuracy: 0.9278 - val_loss: 0.2668 - val_accuracy: 0.9284\n",
            "Epoch 15/20\n",
            "375/375 [==============================] - 1s 3ms/step - loss: 0.2617 - accuracy: 0.9281 - val_loss: 0.2636 - val_accuracy: 0.9299\n",
            "Epoch 16/20\n",
            "375/375 [==============================] - 1s 3ms/step - loss: 0.2601 - accuracy: 0.9283 - val_loss: 0.2634 - val_accuracy: 0.9289\n",
            "Epoch 17/20\n",
            "375/375 [==============================] - 1s 3ms/step - loss: 0.2592 - accuracy: 0.9290 - val_loss: 0.2655 - val_accuracy: 0.9293\n",
            "Epoch 18/20\n",
            "375/375 [==============================] - 1s 3ms/step - loss: 0.2581 - accuracy: 0.9293 - val_loss: 0.2630 - val_accuracy: 0.9298\n",
            "Epoch 19/20\n",
            "375/375 [==============================] - 1s 3ms/step - loss: 0.2569 - accuracy: 0.9297 - val_loss: 0.2628 - val_accuracy: 0.9283\n",
            "Epoch 20/20\n",
            "375/375 [==============================] - 1s 3ms/step - loss: 0.2563 - accuracy: 0.9300 - val_loss: 0.2622 - val_accuracy: 0.9302\n",
            "Epoch 1/20\n",
            "375/375 [==============================] - 2s 4ms/step - loss: 0.2607 - accuracy: 0.9190 - val_loss: 0.1122 - val_accuracy: 0.9670\n",
            "Epoch 2/20\n",
            "375/375 [==============================] - 1s 3ms/step - loss: 0.0923 - accuracy: 0.9718 - val_loss: 0.1047 - val_accuracy: 0.9674\n",
            "Epoch 3/20\n",
            "375/375 [==============================] - 1s 3ms/step - loss: 0.0588 - accuracy: 0.9818 - val_loss: 0.0973 - val_accuracy: 0.9718\n",
            "Epoch 4/20\n",
            "375/375 [==============================] - 1s 3ms/step - loss: 0.0409 - accuracy: 0.9869 - val_loss: 0.0977 - val_accuracy: 0.9743\n",
            "Epoch 5/20\n",
            "375/375 [==============================] - 2s 5ms/step - loss: 0.0287 - accuracy: 0.9909 - val_loss: 0.0881 - val_accuracy: 0.9774\n",
            "Epoch 6/20\n",
            "375/375 [==============================] - 1s 4ms/step - loss: 0.0229 - accuracy: 0.9924 - val_loss: 0.0920 - val_accuracy: 0.9779\n",
            "Epoch 7/20\n",
            "375/375 [==============================] - 1s 3ms/step - loss: 0.0148 - accuracy: 0.9952 - val_loss: 0.1025 - val_accuracy: 0.9754\n",
            "Epoch 8/20\n",
            "375/375 [==============================] - 1s 3ms/step - loss: 0.0121 - accuracy: 0.9958 - val_loss: 0.1027 - val_accuracy: 0.9783\n",
            "Epoch 9/20\n",
            "375/375 [==============================] - 1s 3ms/step - loss: 0.0101 - accuracy: 0.9966 - val_loss: 0.1082 - val_accuracy: 0.9792\n",
            "Epoch 10/20\n",
            "375/375 [==============================] - 1s 3ms/step - loss: 0.0075 - accuracy: 0.9975 - val_loss: 0.0994 - val_accuracy: 0.9796\n",
            "Epoch 11/20\n",
            "375/375 [==============================] - 1s 3ms/step - loss: 0.0053 - accuracy: 0.9985 - val_loss: 0.1084 - val_accuracy: 0.9803\n",
            "Epoch 12/20\n",
            "375/375 [==============================] - 1s 4ms/step - loss: 0.0043 - accuracy: 0.9987 - val_loss: 0.1691 - val_accuracy: 0.9722\n",
            "Epoch 13/20\n",
            "375/375 [==============================] - 1s 4ms/step - loss: 0.0037 - accuracy: 0.9989 - val_loss: 0.1099 - val_accuracy: 0.9818\n",
            "Epoch 14/20\n",
            "375/375 [==============================] - 2s 4ms/step - loss: 0.0012 - accuracy: 0.9996 - val_loss: 0.1189 - val_accuracy: 0.9811\n",
            "Epoch 15/20\n",
            "375/375 [==============================] - 1s 4ms/step - loss: 0.0020 - accuracy: 0.9995 - val_loss: 0.1180 - val_accuracy: 0.9816\n",
            "Epoch 16/20\n",
            "375/375 [==============================] - 1s 4ms/step - loss: 8.9565e-04 - accuracy: 0.9998 - val_loss: 0.1123 - val_accuracy: 0.9831\n",
            "Epoch 17/20\n",
            "375/375 [==============================] - 1s 3ms/step - loss: 5.1373e-04 - accuracy: 0.9998 - val_loss: 0.1189 - val_accuracy: 0.9812\n",
            "Epoch 18/20\n",
            "375/375 [==============================] - 1s 3ms/step - loss: 1.9489e-04 - accuracy: 0.9999 - val_loss: 0.1123 - val_accuracy: 0.9833\n",
            "Epoch 19/20\n",
            "375/375 [==============================] - 1s 3ms/step - loss: 2.3173e-05 - accuracy: 1.0000 - val_loss: 0.1125 - val_accuracy: 0.9837\n",
            "Epoch 20/20\n",
            "375/375 [==============================] - 1s 3ms/step - loss: 1.6290e-05 - accuracy: 1.0000 - val_loss: 0.1133 - val_accuracy: 0.9837\n"
          ]
        }
      ],
      "source": [
        "model = keras.Sequential([layers.Dense(10, activation=\"softmax\")])\n",
        "model.compile(optimizer=\"rmsprop\",\n",
        "              loss=\"sparse_categorical_crossentropy\",\n",
        "              metrics=[\"accuracy\"])\n",
        "history_small_model = model.fit(\n",
        "    train_images, train_labels,\n",
        "    epochs=20,\n",
        "    batch_size=128,\n",
        "    validation_split=0.2)\n",
        "\n",
        "model = keras.Sequential([\n",
        "    layers.Dense(512, activation=\"relu\"),\n",
        "    layers.Dense(512, activation=\"relu\"),\n",
        "    layers.Dense(10, activation=\"softmax\")\n",
        "])\n",
        "model.compile(optimizer=\"rmsprop\",\n",
        "              loss=\"sparse_categorical_crossentropy\",\n",
        "              metrics=[\"accuracy\"])\n",
        "history_large_model = model.fit(\n",
        "    train_images, train_labels,\n",
        "    epochs=20,\n",
        "    batch_size=128,\n",
        "    validation_split=0.2)"
      ]
    },
    {
      "cell_type": "code",
      "execution_count": 11,
      "metadata": {
        "id": "X0xpVoIMb27N",
        "outputId": "bb40f9ca-cad3-4053-ebd4-55b4a4196468",
        "colab": {
          "base_uri": "https://localhost:8080/",
          "height": 491
        }
      },
      "outputs": [
        {
          "output_type": "execute_result",
          "data": {
            "text/plain": [
              "<matplotlib.legend.Legend at 0x7f08640294f0>"
            ]
          },
          "metadata": {},
          "execution_count": 11
        },
        {
          "output_type": "display_data",
          "data": {
            "text/plain": [
              "<Figure size 640x480 with 1 Axes>"
            ],
            "image/png": "[encoded data removed]"
          },
          "metadata": {}
        }
      ],
      "source": [
        "import matplotlib.pyplot as plt\n",
        "val_loss_S = history_small_model.history[\"val_loss\"]\n",
        "val_loss_L = history_large_model.history[\"val_loss\"]\n",
        "epochs = range(1, 21)\n",
        "plt.plot(epochs, val_loss_S, \"b--\",\n",
        "         label=\"Validation loss\")\n",
        "plt.plot(epochs, val_loss_L, \"r--\",\n",
        "         label=\"large_Validation loss\")\n",
        "plt.title(\"Effect of insufficient model capacity on validation loss\")\n",
        "plt.xlabel(\"Epochs\")\n",
        "plt.ylabel(\"Loss\")\n",
        "plt.legend()"
      ]
    },
    {
      "cell_type": "code",
      "execution_count": 12,
      "metadata": {
        "id": "rI_lpOezb27N",
        "outputId": "62dce1d2-2d12-4b45-da6f-a73dac2129c6",
        "colab": {
          "base_uri": "https://localhost:8080/"
        }
      },
      "outputs": [
        {
          "output_type": "stream",
          "name": "stdout",
          "text": [
            "Epoch 1/20\n",
            "375/375 [==============================] - 2s 4ms/step - loss: 0.3792 - accuracy: 0.8946 - val_loss: 0.2100 - val_accuracy: 0.9394\n",
            "Epoch 2/20\n",
            "375/375 [==============================] - 2s 4ms/step - loss: 0.1707 - accuracy: 0.9490 - val_loss: 0.1758 - val_accuracy: 0.9481\n",
            "Epoch 3/20\n",
            "375/375 [==============================] - 1s 4ms/step - loss: 0.1192 - accuracy: 0.9647 - val_loss: 0.1128 - val_accuracy: 0.9668\n",
            "Epoch 4/20\n",
            "375/375 [==============================] - 1s 3ms/step - loss: 0.0913 - accuracy: 0.9727 - val_loss: 0.1095 - val_accuracy: 0.9678\n",
            "Epoch 5/20\n",
            "375/375 [==============================] - 1s 4ms/step - loss: 0.0727 - accuracy: 0.9772 - val_loss: 0.1058 - val_accuracy: 0.9678\n",
            "Epoch 6/20\n",
            "375/375 [==============================] - 1s 3ms/step - loss: 0.0600 - accuracy: 0.9820 - val_loss: 0.0964 - val_accuracy: 0.9722\n",
            "Epoch 7/20\n",
            "375/375 [==============================] - 1s 3ms/step - loss: 0.0498 - accuracy: 0.9849 - val_loss: 0.1028 - val_accuracy: 0.9699\n",
            "Epoch 8/20\n",
            "375/375 [==============================] - 1s 3ms/step - loss: 0.0423 - accuracy: 0.9868 - val_loss: 0.0987 - val_accuracy: 0.9722\n",
            "Epoch 9/20\n",
            "375/375 [==============================] - 1s 3ms/step - loss: 0.0352 - accuracy: 0.9891 - val_loss: 0.1064 - val_accuracy: 0.9712\n",
            "Epoch 10/20\n",
            "375/375 [==============================] - 1s 3ms/step - loss: 0.0295 - accuracy: 0.9908 - val_loss: 0.1073 - val_accuracy: 0.9730\n",
            "Epoch 11/20\n",
            "375/375 [==============================] - 2s 4ms/step - loss: 0.0251 - accuracy: 0.9925 - val_loss: 0.1152 - val_accuracy: 0.9707\n",
            "Epoch 12/20\n",
            "375/375 [==============================] - 1s 4ms/step - loss: 0.0220 - accuracy: 0.9936 - val_loss: 0.1028 - val_accuracy: 0.9760\n",
            "Epoch 13/20\n",
            "375/375 [==============================] - 1s 3ms/step - loss: 0.0183 - accuracy: 0.9945 - val_loss: 0.1064 - val_accuracy: 0.9737\n",
            "Epoch 14/20\n",
            "375/375 [==============================] - 1s 3ms/step - loss: 0.0152 - accuracy: 0.9955 - val_loss: 0.1142 - val_accuracy: 0.9743\n",
            "Epoch 15/20\n",
            "375/375 [==============================] - 1s 3ms/step - loss: 0.0132 - accuracy: 0.9960 - val_loss: 0.1051 - val_accuracy: 0.9762\n",
            "Epoch 16/20\n",
            "375/375 [==============================] - 1s 3ms/step - loss: 0.0110 - accuracy: 0.9967 - val_loss: 0.1166 - val_accuracy: 0.9734\n",
            "Epoch 17/20\n",
            "375/375 [==============================] - 1s 3ms/step - loss: 0.0094 - accuracy: 0.9972 - val_loss: 0.1288 - val_accuracy: 0.9738\n",
            "Epoch 18/20\n",
            "375/375 [==============================] - 1s 3ms/step - loss: 0.0088 - accuracy: 0.9974 - val_loss: 0.1344 - val_accuracy: 0.9728\n",
            "Epoch 19/20\n",
            "375/375 [==============================] - 1s 3ms/step - loss: 0.0073 - accuracy: 0.9978 - val_loss: 0.1305 - val_accuracy: 0.9747\n",
            "Epoch 20/20\n",
            "375/375 [==============================] - 1s 4ms/step - loss: 0.0060 - accuracy: 0.9983 - val_loss: 0.1297 - val_accuracy: 0.9750\n"
          ]
        }
      ],
      "source": [
        "model = keras.Sequential([\n",
        "    layers.Dense(96, activation=\"relu\"),\n",
        "    layers.Dense(96, activation=\"relu\"),\n",
        "    layers.Dense(10, activation=\"softmax\"),\n",
        "])\n",
        "model.compile(optimizer=\"rmsprop\",\n",
        "              loss=\"sparse_categorical_crossentropy\",\n",
        "              metrics=[\"accuracy\"])\n",
        "history_large_model = model.fit(\n",
        "    train_images, train_labels,\n",
        "    epochs=20,\n",
        "    batch_size=128,\n",
        "    validation_split=0.2)"
      ]
    },
    {
      "cell_type": "markdown",
      "metadata": {
        "id": "PAy-AaQTb27N"
      },
      "source": [
        "## Improving generalization"
      ]
    },
    {
      "cell_type": "markdown",
      "metadata": {
        "id": "I7vEs_Mrb27N"
      },
      "source": [
        "### Dataset curation"
      ]
    },
    {
      "cell_type": "markdown",
      "metadata": {
        "id": "jqvqlVLRb27N"
      },
      "source": [
        "### Feature engineering"
      ]
    },
    {
      "cell_type": "markdown",
      "metadata": {
        "id": "Pyd3BpIxb27N"
      },
      "source": [
        "### Using early stopping"
      ]
    },
    {
      "cell_type": "markdown",
      "metadata": {
        "id": "2akfSrcVb27O"
      },
      "source": [
        "### Regularizing your model"
      ]
    },
    {
      "cell_type": "markdown",
      "metadata": {
        "id": "jlExZONXb27O"
      },
      "source": [
        "#### Reducing the network's size"
      ]
    },
    {
      "cell_type": "markdown",
      "metadata": {
        "id": "lb5qvHE-b27O"
      },
      "source": [
        "**Original model**"
      ]
    },
    {
      "cell_type": "code",
      "execution_count": 13,
      "metadata": {
        "id": "9cCEuWOjb27O",
        "outputId": "ac90fded-02c4-4ced-8f8f-7c6589d53aeb",
        "colab": {
          "base_uri": "https://localhost:8080/"
        }
      },
      "outputs": [
        {
          "output_type": "stream",
          "name": "stdout",
          "text": [
            "Epoch 1/20\n",
            "30/30 [==============================] - 3s 61ms/step - loss: 0.5443 - accuracy: 0.7741 - val_loss: 0.4209 - val_accuracy: 0.8590\n",
            "Epoch 2/20\n",
            "30/30 [==============================] - 1s 29ms/step - loss: 0.3508 - accuracy: 0.8892 - val_loss: 0.3343 - val_accuracy: 0.8745\n",
            "Epoch 3/20\n",
            "30/30 [==============================] - 1s 29ms/step - loss: 0.2608 - accuracy: 0.9165 - val_loss: 0.2897 - val_accuracy: 0.8911\n",
            "Epoch 4/20\n",
            "30/30 [==============================] - 1s 21ms/step - loss: 0.2130 - accuracy: 0.9287 - val_loss: 0.2837 - val_accuracy: 0.8846\n",
            "Epoch 5/20\n",
            "30/30 [==============================] - 1s 22ms/step - loss: 0.1778 - accuracy: 0.9411 - val_loss: 0.3333 - val_accuracy: 0.8668\n",
            "Epoch 6/20\n",
            "30/30 [==============================] - 1s 24ms/step - loss: 0.1532 - accuracy: 0.9499 - val_loss: 0.2799 - val_accuracy: 0.8878\n",
            "Epoch 7/20\n",
            "30/30 [==============================] - 1s 21ms/step - loss: 0.1329 - accuracy: 0.9566 - val_loss: 0.2916 - val_accuracy: 0.8874\n",
            "Epoch 8/20\n",
            "30/30 [==============================] - 1s 22ms/step - loss: 0.1166 - accuracy: 0.9635 - val_loss: 0.3034 - val_accuracy: 0.8839\n",
            "Epoch 9/20\n",
            "30/30 [==============================] - 1s 24ms/step - loss: 0.1029 - accuracy: 0.9689 - val_loss: 0.3144 - val_accuracy: 0.8838\n",
            "Epoch 10/20\n",
            "30/30 [==============================] - 1s 25ms/step - loss: 0.0907 - accuracy: 0.9731 - val_loss: 0.3346 - val_accuracy: 0.8806\n",
            "Epoch 11/20\n",
            "30/30 [==============================] - 1s 22ms/step - loss: 0.0785 - accuracy: 0.9795 - val_loss: 0.3488 - val_accuracy: 0.8807\n",
            "Epoch 12/20\n",
            "30/30 [==============================] - 1s 25ms/step - loss: 0.0670 - accuracy: 0.9833 - val_loss: 0.3766 - val_accuracy: 0.8771\n",
            "Epoch 13/20\n",
            "30/30 [==============================] - 1s 24ms/step - loss: 0.0613 - accuracy: 0.9842 - val_loss: 0.3885 - val_accuracy: 0.8753\n",
            "Epoch 14/20\n",
            "30/30 [==============================] - 1s 23ms/step - loss: 0.0502 - accuracy: 0.9893 - val_loss: 0.4079 - val_accuracy: 0.8766\n",
            "Epoch 15/20\n",
            "30/30 [==============================] - 1s 23ms/step - loss: 0.0455 - accuracy: 0.9899 - val_loss: 0.4274 - val_accuracy: 0.8736\n",
            "Epoch 16/20\n",
            "30/30 [==============================] - 1s 24ms/step - loss: 0.0400 - accuracy: 0.9919 - val_loss: 0.4559 - val_accuracy: 0.8724\n",
            "Epoch 17/20\n",
            "30/30 [==============================] - 1s 22ms/step - loss: 0.0334 - accuracy: 0.9936 - val_loss: 0.4755 - val_accuracy: 0.8705\n",
            "Epoch 18/20\n",
            "30/30 [==============================] - 1s 28ms/step - loss: 0.0283 - accuracy: 0.9954 - val_loss: 0.4912 - val_accuracy: 0.8723\n",
            "Epoch 19/20\n",
            "30/30 [==============================] - 1s 40ms/step - loss: 0.0251 - accuracy: 0.9956 - val_loss: 0.5301 - val_accuracy: 0.8704\n",
            "Epoch 20/20\n",
            "30/30 [==============================] - 1s 25ms/step - loss: 0.0198 - accuracy: 0.9975 - val_loss: 0.5650 - val_accuracy: 0.8684\n"
          ]
        }
      ],
      "source": [
        "from tensorflow.keras.datasets import imdb\n",
        "(train_data, train_labels), _ = imdb.load_data(num_words=10000)\n",
        "\n",
        "def vectorize_sequences(sequences, dimension=10000):\n",
        "    results = np.zeros((len(sequences), dimension))\n",
        "    for i, sequence in enumerate(sequences):\n",
        "        results[i, sequence] = 1.\n",
        "    return results\n",
        "train_data = vectorize_sequences(train_data)\n",
        "\n",
        "model = keras.Sequential([\n",
        "    layers.Dense(16, activation=\"relu\"),\n",
        "    layers.Dense(16, activation=\"relu\"),\n",
        "    layers.Dense(1, activation=\"sigmoid\")\n",
        "])\n",
        "model.compile(optimizer=\"rmsprop\",\n",
        "              loss=\"binary_crossentropy\",\n",
        "              metrics=[\"accuracy\"])\n",
        "history_original = model.fit(train_data, train_labels,\n",
        "                             epochs=20, batch_size=512, validation_split=0.4)"
      ]
    },
    {
      "cell_type": "markdown",
      "metadata": {
        "id": "9RgiNXZwb27O"
      },
      "source": [
        "**Version of the model with lower capacity**"
      ]
    },
    {
      "cell_type": "code",
      "execution_count": 14,
      "metadata": {
        "id": "ecbJrIHxb27O",
        "outputId": "0999fbd2-1fe8-4f4d-bf54-8acf908231e1",
        "colab": {
          "base_uri": "https://localhost:8080/"
        }
      },
      "outputs": [
        {
          "output_type": "stream",
          "name": "stdout",
          "text": [
            "Epoch 1/20\n",
            "30/30 [==============================] - 3s 51ms/step - loss: 0.6287 - accuracy: 0.6302 - val_loss: 0.5820 - val_accuracy: 0.7209\n",
            "Epoch 2/20\n",
            "30/30 [==============================] - 1s 25ms/step - loss: 0.5454 - accuracy: 0.7609 - val_loss: 0.5353 - val_accuracy: 0.7707\n",
            "Epoch 3/20\n",
            "30/30 [==============================] - 1s 25ms/step - loss: 0.4966 - accuracy: 0.8249 - val_loss: 0.5057 - val_accuracy: 0.8486\n",
            "Epoch 4/20\n",
            "30/30 [==============================] - 1s 28ms/step - loss: 0.4600 - accuracy: 0.8686 - val_loss: 0.4867 - val_accuracy: 0.8385\n",
            "Epoch 5/20\n",
            "30/30 [==============================] - 1s 29ms/step - loss: 0.4321 - accuracy: 0.8937 - val_loss: 0.4704 - val_accuracy: 0.8627\n",
            "Epoch 6/20\n",
            "30/30 [==============================] - 1s 29ms/step - loss: 0.4081 - accuracy: 0.9149 - val_loss: 0.4641 - val_accuracy: 0.8583\n",
            "Epoch 7/20\n",
            "30/30 [==============================] - 1s 21ms/step - loss: 0.3873 - accuracy: 0.9287 - val_loss: 0.4515 - val_accuracy: 0.8810\n",
            "Epoch 8/20\n",
            "30/30 [==============================] - 1s 22ms/step - loss: 0.3691 - accuracy: 0.9408 - val_loss: 0.4560 - val_accuracy: 0.8652\n",
            "Epoch 9/20\n",
            "30/30 [==============================] - 1s 21ms/step - loss: 0.3530 - accuracy: 0.9497 - val_loss: 0.4481 - val_accuracy: 0.8731\n",
            "Epoch 10/20\n",
            "30/30 [==============================] - 1s 22ms/step - loss: 0.3378 - accuracy: 0.9571 - val_loss: 0.4569 - val_accuracy: 0.8675\n",
            "Epoch 11/20\n",
            "30/30 [==============================] - 1s 22ms/step - loss: 0.3244 - accuracy: 0.9641 - val_loss: 0.4478 - val_accuracy: 0.8755\n",
            "Epoch 12/20\n",
            "30/30 [==============================] - 1s 24ms/step - loss: 0.3115 - accuracy: 0.9709 - val_loss: 0.4566 - val_accuracy: 0.8710\n",
            "Epoch 13/20\n",
            "30/30 [==============================] - 1s 21ms/step - loss: 0.3002 - accuracy: 0.9736 - val_loss: 0.4830 - val_accuracy: 0.8603\n",
            "Epoch 14/20\n",
            "30/30 [==============================] - 1s 22ms/step - loss: 0.2891 - accuracy: 0.9775 - val_loss: 0.4731 - val_accuracy: 0.8677\n",
            "Epoch 15/20\n",
            "30/30 [==============================] - 1s 24ms/step - loss: 0.2793 - accuracy: 0.9802 - val_loss: 0.4676 - val_accuracy: 0.8705\n",
            "Epoch 16/20\n",
            "30/30 [==============================] - 1s 22ms/step - loss: 0.2704 - accuracy: 0.9829 - val_loss: 0.4966 - val_accuracy: 0.8642\n",
            "Epoch 17/20\n",
            "30/30 [==============================] - 1s 22ms/step - loss: 0.2615 - accuracy: 0.9843 - val_loss: 0.4832 - val_accuracy: 0.8695\n",
            "Epoch 18/20\n",
            "30/30 [==============================] - 1s 24ms/step - loss: 0.2533 - accuracy: 0.9861 - val_loss: 0.4983 - val_accuracy: 0.8674\n",
            "Epoch 19/20\n",
            "30/30 [==============================] - 1s 21ms/step - loss: 0.2458 - accuracy: 0.9873 - val_loss: 0.4638 - val_accuracy: 0.8755\n",
            "Epoch 20/20\n",
            "30/30 [==============================] - 1s 25ms/step - loss: 0.2384 - accuracy: 0.9887 - val_loss: 0.4954 - val_accuracy: 0.8701\n"
          ]
        }
      ],
      "source": [
        "model = keras.Sequential([\n",
        "    layers.Dense(4, activation=\"relu\"),\n",
        "    layers.Dense(4, activation=\"relu\"),\n",
        "    layers.Dense(1, activation=\"sigmoid\")\n",
        "])\n",
        "model.compile(optimizer=\"rmsprop\",\n",
        "              loss=\"binary_crossentropy\",\n",
        "              metrics=[\"accuracy\"])\n",
        "history_smaller_model = model.fit(\n",
        "    train_data, train_labels,\n",
        "    epochs=20, batch_size=512, validation_split=0.4)"
      ]
    },
    {
      "cell_type": "markdown",
      "metadata": {
        "id": "4cg0nJr7b27P"
      },
      "source": [
        "**Version of the model with higher capacity**"
      ]
    },
    {
      "cell_type": "code",
      "execution_count": 15,
      "metadata": {
        "id": "3_c64ArWb27P",
        "outputId": "fffd04b7-e80c-4b9b-81c3-adcd0cf3f29e",
        "colab": {
          "base_uri": "https://localhost:8080/"
        }
      },
      "outputs": [
        {
          "output_type": "stream",
          "name": "stdout",
          "text": [
            "Epoch 1/20\n",
            "30/30 [==============================] - 3s 55ms/step - loss: 0.5735 - accuracy: 0.7111 - val_loss: 0.3518 - val_accuracy: 0.8569\n",
            "Epoch 2/20\n",
            "30/30 [==============================] - 1s 27ms/step - loss: 0.3340 - accuracy: 0.8659 - val_loss: 0.4634 - val_accuracy: 0.7973\n",
            "Epoch 3/20\n",
            "30/30 [==============================] - 1s 28ms/step - loss: 0.2441 - accuracy: 0.9022 - val_loss: 0.2664 - val_accuracy: 0.8913\n",
            "Epoch 4/20\n",
            "30/30 [==============================] - 1s 27ms/step - loss: 0.1838 - accuracy: 0.9299 - val_loss: 0.3923 - val_accuracy: 0.8529\n",
            "Epoch 5/20\n",
            "30/30 [==============================] - 1s 27ms/step - loss: 0.1410 - accuracy: 0.9453 - val_loss: 0.3068 - val_accuracy: 0.8869\n",
            "Epoch 6/20\n",
            "30/30 [==============================] - 1s 41ms/step - loss: 0.1014 - accuracy: 0.9647 - val_loss: 0.4864 - val_accuracy: 0.8385\n",
            "Epoch 7/20\n",
            "30/30 [==============================] - 1s 31ms/step - loss: 0.1039 - accuracy: 0.9620 - val_loss: 0.3104 - val_accuracy: 0.8854\n",
            "Epoch 8/20\n",
            "30/30 [==============================] - 1s 27ms/step - loss: 0.0266 - accuracy: 0.9947 - val_loss: 0.4442 - val_accuracy: 0.8771\n",
            "Epoch 9/20\n",
            "30/30 [==============================] - 1s 26ms/step - loss: 0.0749 - accuracy: 0.9793 - val_loss: 0.4176 - val_accuracy: 0.8832\n",
            "Epoch 10/20\n",
            "30/30 [==============================] - 1s 26ms/step - loss: 0.0081 - accuracy: 0.9989 - val_loss: 0.9287 - val_accuracy: 0.8230\n",
            "Epoch 11/20\n",
            "30/30 [==============================] - 1s 25ms/step - loss: 0.0887 - accuracy: 0.9811 - val_loss: 0.4602 - val_accuracy: 0.8829\n",
            "Epoch 12/20\n",
            "30/30 [==============================] - 1s 25ms/step - loss: 0.0037 - accuracy: 0.9997 - val_loss: 0.5319 - val_accuracy: 0.8820\n",
            "Epoch 13/20\n",
            "30/30 [==============================] - 1s 27ms/step - loss: 0.1066 - accuracy: 0.9797 - val_loss: 0.4233 - val_accuracy: 0.8822\n",
            "Epoch 14/20\n",
            "30/30 [==============================] - 1s 27ms/step - loss: 0.0034 - accuracy: 1.0000 - val_loss: 0.5084 - val_accuracy: 0.8830\n",
            "Epoch 15/20\n",
            "30/30 [==============================] - 1s 26ms/step - loss: 0.0015 - accuracy: 1.0000 - val_loss: 0.5770 - val_accuracy: 0.8835\n",
            "Epoch 16/20\n",
            "30/30 [==============================] - 1s 25ms/step - loss: 8.4350e-04 - accuracy: 1.0000 - val_loss: 0.6428 - val_accuracy: 0.8815\n",
            "Epoch 17/20\n",
            "30/30 [==============================] - 1s 28ms/step - loss: 0.1072 - accuracy: 0.9805 - val_loss: 0.4791 - val_accuracy: 0.8817\n",
            "Epoch 18/20\n",
            "30/30 [==============================] - 1s 26ms/step - loss: 0.0021 - accuracy: 1.0000 - val_loss: 0.5324 - val_accuracy: 0.8831\n",
            "Epoch 19/20\n",
            "30/30 [==============================] - 1s 26ms/step - loss: 8.8067e-04 - accuracy: 1.0000 - val_loss: 0.6070 - val_accuracy: 0.8831\n",
            "Epoch 20/20\n",
            "30/30 [==============================] - 1s 30ms/step - loss: 4.6932e-04 - accuracy: 1.0000 - val_loss: 0.6679 - val_accuracy: 0.8832\n"
          ]
        }
      ],
      "source": [
        "model = keras.Sequential([\n",
        "    layers.Dense(512, activation=\"relu\"),\n",
        "    layers.Dense(512, activation=\"relu\"),\n",
        "    layers.Dense(1, activation=\"sigmoid\")\n",
        "])\n",
        "model.compile(optimizer=\"rmsprop\",\n",
        "              loss=\"binary_crossentropy\",\n",
        "              metrics=[\"accuracy\"])\n",
        "history_larger_model = model.fit(\n",
        "    train_data, train_labels,\n",
        "    epochs=20, batch_size=512, validation_split=0.4)"
      ]
    },
    {
      "cell_type": "markdown",
      "metadata": {
        "id": "wPUhICtfb27P"
      },
      "source": [
        "#### Adding weight regularization"
      ]
    },
    {
      "cell_type": "markdown",
      "metadata": {
        "id": "1mGpVfRSb27P"
      },
      "source": [
        "**Adding L2 weight regularization to the model**"
      ]
    },
    {
      "cell_type": "code",
      "execution_count": 16,
      "metadata": {
        "id": "E65B3qvab27P",
        "outputId": "0e44d773-3c3b-4da7-9245-27d7e9ee7b85",
        "colab": {
          "base_uri": "https://localhost:8080/"
        }
      },
      "outputs": [
        {
          "output_type": "stream",
          "name": "stdout",
          "text": [
            "Epoch 1/20\n",
            "30/30 [==============================] - 3s 53ms/step - loss: 0.6453 - accuracy: 0.7624 - val_loss: 0.5077 - val_accuracy: 0.8639\n",
            "Epoch 2/20\n",
            "30/30 [==============================] - 1s 24ms/step - loss: 0.4426 - accuracy: 0.8847 - val_loss: 0.4210 - val_accuracy: 0.8770\n",
            "Epoch 3/20\n",
            "30/30 [==============================] - 1s 22ms/step - loss: 0.3639 - accuracy: 0.9036 - val_loss: 0.3817 - val_accuracy: 0.8819\n",
            "Epoch 4/20\n",
            "30/30 [==============================] - 1s 24ms/step - loss: 0.3173 - accuracy: 0.9213 - val_loss: 0.3618 - val_accuracy: 0.8879\n",
            "Epoch 5/20\n",
            "30/30 [==============================] - 1s 21ms/step - loss: 0.2921 - accuracy: 0.9279 - val_loss: 0.3673 - val_accuracy: 0.8827\n",
            "Epoch 6/20\n",
            "30/30 [==============================] - 1s 21ms/step - loss: 0.2742 - accuracy: 0.9323 - val_loss: 0.3576 - val_accuracy: 0.8871\n",
            "Epoch 7/20\n",
            "30/30 [==============================] - 1s 24ms/step - loss: 0.2605 - accuracy: 0.9376 - val_loss: 0.3714 - val_accuracy: 0.8802\n",
            "Epoch 8/20\n",
            "30/30 [==============================] - 1s 22ms/step - loss: 0.2492 - accuracy: 0.9436 - val_loss: 0.4137 - val_accuracy: 0.8656\n",
            "Epoch 9/20\n",
            "30/30 [==============================] - 1s 29ms/step - loss: 0.2438 - accuracy: 0.9439 - val_loss: 0.3863 - val_accuracy: 0.8739\n",
            "Epoch 10/20\n",
            "30/30 [==============================] - 1s 28ms/step - loss: 0.2377 - accuracy: 0.9471 - val_loss: 0.3677 - val_accuracy: 0.8822\n",
            "Epoch 11/20\n",
            "30/30 [==============================] - 1s 25ms/step - loss: 0.2265 - accuracy: 0.9531 - val_loss: 0.3764 - val_accuracy: 0.8813\n",
            "Epoch 12/20\n",
            "30/30 [==============================] - 1s 24ms/step - loss: 0.2233 - accuracy: 0.9531 - val_loss: 0.3971 - val_accuracy: 0.8738\n",
            "Epoch 13/20\n",
            "30/30 [==============================] - 1s 24ms/step - loss: 0.2186 - accuracy: 0.9548 - val_loss: 0.4342 - val_accuracy: 0.8661\n",
            "Epoch 14/20\n",
            "30/30 [==============================] - 1s 22ms/step - loss: 0.2156 - accuracy: 0.9553 - val_loss: 0.3970 - val_accuracy: 0.8759\n",
            "Epoch 15/20\n",
            "30/30 [==============================] - 1s 21ms/step - loss: 0.2110 - accuracy: 0.9572 - val_loss: 0.3888 - val_accuracy: 0.8786\n",
            "Epoch 16/20\n",
            "30/30 [==============================] - 1s 21ms/step - loss: 0.2043 - accuracy: 0.9621 - val_loss: 0.3938 - val_accuracy: 0.8774\n",
            "Epoch 17/20\n",
            "30/30 [==============================] - 1s 21ms/step - loss: 0.2076 - accuracy: 0.9577 - val_loss: 0.4001 - val_accuracy: 0.8781\n",
            "Epoch 18/20\n",
            "30/30 [==============================] - 1s 24ms/step - loss: 0.2067 - accuracy: 0.9572 - val_loss: 0.4127 - val_accuracy: 0.8749\n",
            "Epoch 19/20\n",
            "30/30 [==============================] - 1s 21ms/step - loss: 0.1923 - accuracy: 0.9654 - val_loss: 0.5030 - val_accuracy: 0.8510\n",
            "Epoch 20/20\n",
            "30/30 [==============================] - 1s 24ms/step - loss: 0.2061 - accuracy: 0.9569 - val_loss: 0.4527 - val_accuracy: 0.8608\n"
          ]
        }
      ],
      "source": [
        "from tensorflow.keras import regularizers\n",
        "model = keras.Sequential([\n",
        "    layers.Dense(16,\n",
        "                 kernel_regularizer=regularizers.l2(0.002),\n",
        "                 activation=\"relu\"),\n",
        "    layers.Dense(16,\n",
        "                 kernel_regularizer=regularizers.l2(0.002),\n",
        "                 activation=\"relu\"),\n",
        "    layers.Dense(1, activation=\"sigmoid\")\n",
        "])\n",
        "model.compile(optimizer=\"rmsprop\",\n",
        "              loss=\"binary_crossentropy\",\n",
        "              metrics=[\"accuracy\"])\n",
        "history_l2_reg = model.fit(\n",
        "    train_data, train_labels,\n",
        "    epochs=20, batch_size=512, validation_split=0.4)"
      ]
    },
    {
      "cell_type": "markdown",
      "metadata": {
        "id": "EQS1W9Msb27P"
      },
      "source": [
        "**Different weight regularizers available in Keras**"
      ]
    },
    {
      "cell_type": "code",
      "execution_count": 17,
      "metadata": {
        "id": "mFfWBmfsb27P",
        "outputId": "6a1681b4-419f-44ac-d1fb-5c7ea4dd1880",
        "colab": {
          "base_uri": "https://localhost:8080/"
        }
      },
      "outputs": [
        {
          "output_type": "execute_result",
          "data": {
            "text/plain": [
              "<keras.regularizers.L1L2 at 0x7f0802ab8af0>"
            ]
          },
          "metadata": {},
          "execution_count": 17
        }
      ],
      "source": [
        "from tensorflow.keras import regularizers\n",
        "regularizers.l1(0.001)\n",
        "regularizers.l1_l2(l1=0.001, l2=0.001)"
      ]
    },
    {
      "cell_type": "markdown",
      "metadata": {
        "id": "eK5dCCG-b27Q"
      },
      "source": [
        "#### Adding dropout"
      ]
    },
    {
      "cell_type": "markdown",
      "metadata": {
        "id": "RM5zISc4b27Q"
      },
      "source": [
        "**Adding dropout to the IMDB model**"
      ]
    },
    {
      "cell_type": "code",
      "execution_count": 18,
      "metadata": {
        "id": "vmH8mKU5b27Q",
        "outputId": "ffdbd042-474b-4317-97c5-698648eb075d",
        "colab": {
          "base_uri": "https://localhost:8080/"
        }
      },
      "outputs": [
        {
          "output_type": "stream",
          "name": "stdout",
          "text": [
            "Epoch 1/20\n",
            "30/30 [==============================] - 3s 56ms/step - loss: 0.6590 - accuracy: 0.6007 - val_loss: 0.5532 - val_accuracy: 0.8221\n",
            "Epoch 2/20\n",
            "30/30 [==============================] - 1s 21ms/step - loss: 0.5406 - accuracy: 0.7398 - val_loss: 0.4161 - val_accuracy: 0.8679\n",
            "Epoch 3/20\n",
            "30/30 [==============================] - 1s 22ms/step - loss: 0.4528 - accuracy: 0.8016 - val_loss: 0.3480 - val_accuracy: 0.8789\n",
            "Epoch 4/20\n",
            "30/30 [==============================] - 1s 24ms/step - loss: 0.3892 - accuracy: 0.8435 - val_loss: 0.3062 - val_accuracy: 0.8807\n",
            "Epoch 5/20\n",
            "30/30 [==============================] - 1s 22ms/step - loss: 0.3371 - accuracy: 0.8685 - val_loss: 0.2883 - val_accuracy: 0.8841\n",
            "Epoch 6/20\n",
            "30/30 [==============================] - 1s 22ms/step - loss: 0.2975 - accuracy: 0.8892 - val_loss: 0.2883 - val_accuracy: 0.8850\n",
            "Epoch 7/20\n",
            "30/30 [==============================] - 1s 24ms/step - loss: 0.2636 - accuracy: 0.9066 - val_loss: 0.2743 - val_accuracy: 0.8907\n",
            "Epoch 8/20\n",
            "30/30 [==============================] - 1s 25ms/step - loss: 0.2348 - accuracy: 0.9192 - val_loss: 0.2753 - val_accuracy: 0.8938\n",
            "Epoch 9/20\n",
            "30/30 [==============================] - 1s 24ms/step - loss: 0.2134 - accuracy: 0.9292 - val_loss: 0.2853 - val_accuracy: 0.8913\n",
            "Epoch 10/20\n",
            "30/30 [==============================] - 1s 29ms/step - loss: 0.1921 - accuracy: 0.9353 - val_loss: 0.2910 - val_accuracy: 0.8912\n",
            "Epoch 11/20\n",
            "30/30 [==============================] - 1s 28ms/step - loss: 0.1740 - accuracy: 0.9422 - val_loss: 0.3162 - val_accuracy: 0.8900\n",
            "Epoch 12/20\n",
            "30/30 [==============================] - 1s 26ms/step - loss: 0.1630 - accuracy: 0.9474 - val_loss: 0.3182 - val_accuracy: 0.8883\n",
            "Epoch 13/20\n",
            "30/30 [==============================] - 1s 25ms/step - loss: 0.1452 - accuracy: 0.9509 - val_loss: 0.3658 - val_accuracy: 0.8884\n",
            "Epoch 14/20\n",
            "30/30 [==============================] - 1s 22ms/step - loss: 0.1358 - accuracy: 0.9556 - val_loss: 0.3807 - val_accuracy: 0.8882\n",
            "Epoch 15/20\n",
            "30/30 [==============================] - 1s 24ms/step - loss: 0.1261 - accuracy: 0.9583 - val_loss: 0.3816 - val_accuracy: 0.8873\n",
            "Epoch 16/20\n",
            "30/30 [==============================] - 1s 21ms/step - loss: 0.1099 - accuracy: 0.9638 - val_loss: 0.4022 - val_accuracy: 0.8871\n",
            "Epoch 17/20\n",
            "30/30 [==============================] - 1s 22ms/step - loss: 0.1020 - accuracy: 0.9664 - val_loss: 0.4374 - val_accuracy: 0.8878\n",
            "Epoch 18/20\n",
            "30/30 [==============================] - 1s 24ms/step - loss: 0.1047 - accuracy: 0.9654 - val_loss: 0.4677 - val_accuracy: 0.8880\n",
            "Epoch 19/20\n",
            "30/30 [==============================] - 1s 24ms/step - loss: 0.0920 - accuracy: 0.9692 - val_loss: 0.4991 - val_accuracy: 0.8860\n",
            "Epoch 20/20\n",
            "30/30 [==============================] - 1s 22ms/step - loss: 0.0912 - accuracy: 0.9691 - val_loss: 0.5098 - val_accuracy: 0.8857\n",
            "Epoch 1/20\n",
            "30/30 [==============================] - 3s 55ms/step - loss: 0.5607 - accuracy: 0.7601 - val_loss: 0.4320 - val_accuracy: 0.8661\n",
            "Epoch 2/20\n",
            "30/30 [==============================] - 1s 27ms/step - loss: 0.3572 - accuracy: 0.8871 - val_loss: 0.3325 - val_accuracy: 0.8817\n",
            "Epoch 3/20\n",
            "30/30 [==============================] - 1s 28ms/step - loss: 0.2672 - accuracy: 0.9129 - val_loss: 0.3100 - val_accuracy: 0.8757\n",
            "Epoch 4/20\n",
            "30/30 [==============================] - 1s 38ms/step - loss: 0.2152 - accuracy: 0.9285 - val_loss: 0.2787 - val_accuracy: 0.8890\n",
            "Epoch 5/20\n",
            "30/30 [==============================] - 1s 21ms/step - loss: 0.1809 - accuracy: 0.9407 - val_loss: 0.2996 - val_accuracy: 0.8789\n",
            "Epoch 6/20\n",
            "30/30 [==============================] - 1s 25ms/step - loss: 0.1541 - accuracy: 0.9509 - val_loss: 0.2788 - val_accuracy: 0.8895\n",
            "Epoch 7/20\n",
            "30/30 [==============================] - 1s 22ms/step - loss: 0.1348 - accuracy: 0.9573 - val_loss: 0.3053 - val_accuracy: 0.8801\n",
            "Epoch 8/20\n",
            "30/30 [==============================] - 1s 24ms/step - loss: 0.1162 - accuracy: 0.9663 - val_loss: 0.3050 - val_accuracy: 0.8832\n",
            "Epoch 9/20\n",
            "30/30 [==============================] - 1s 20ms/step - loss: 0.1012 - accuracy: 0.9691 - val_loss: 0.3123 - val_accuracy: 0.8854\n",
            "Epoch 10/20\n",
            "30/30 [==============================] - 1s 25ms/step - loss: 0.0886 - accuracy: 0.9744 - val_loss: 0.3475 - val_accuracy: 0.8776\n",
            "Epoch 11/20\n",
            "30/30 [==============================] - 1s 22ms/step - loss: 0.0784 - accuracy: 0.9777 - val_loss: 0.3440 - val_accuracy: 0.8811\n",
            "Epoch 12/20\n",
            "30/30 [==============================] - 1s 24ms/step - loss: 0.0684 - accuracy: 0.9830 - val_loss: 0.3617 - val_accuracy: 0.8802\n",
            "Epoch 13/20\n",
            "30/30 [==============================] - 1s 21ms/step - loss: 0.0601 - accuracy: 0.9853 - val_loss: 0.4051 - val_accuracy: 0.8736\n",
            "Epoch 14/20\n",
            "30/30 [==============================] - 1s 20ms/step - loss: 0.0527 - accuracy: 0.9885 - val_loss: 0.4006 - val_accuracy: 0.8777\n",
            "Epoch 15/20\n",
            "30/30 [==============================] - 1s 21ms/step - loss: 0.0447 - accuracy: 0.9903 - val_loss: 0.4470 - val_accuracy: 0.8702\n",
            "Epoch 16/20\n",
            "30/30 [==============================] - 1s 24ms/step - loss: 0.0411 - accuracy: 0.9909 - val_loss: 0.4502 - val_accuracy: 0.8737\n",
            "Epoch 17/20\n",
            "30/30 [==============================] - 1s 21ms/step - loss: 0.0335 - accuracy: 0.9936 - val_loss: 0.4772 - val_accuracy: 0.8724\n",
            "Epoch 18/20\n",
            "30/30 [==============================] - 1s 21ms/step - loss: 0.0301 - accuracy: 0.9947 - val_loss: 0.4841 - val_accuracy: 0.8726\n",
            "Epoch 19/20\n",
            "30/30 [==============================] - 1s 24ms/step - loss: 0.0258 - accuracy: 0.9965 - val_loss: 0.5354 - val_accuracy: 0.8683\n",
            "Epoch 20/20\n",
            "30/30 [==============================] - 1s 26ms/step - loss: 0.0238 - accuracy: 0.9960 - val_loss: 0.5325 - val_accuracy: 0.8712\n"
          ]
        }
      ],
      "source": [
        "from tensorflow import keras\n",
        "from tensorflow.keras import layers\n",
        "model = keras.Sequential([\n",
        "    layers.Dense(16, activation=\"relu\"),\n",
        "    layers.Dropout(0.5),\n",
        "    layers.Dense(16, activation=\"relu\"),\n",
        "    layers.Dropout(0.5),\n",
        "    layers.Dense(1, activation=\"sigmoid\")\n",
        "])\n",
        "model.compile(optimizer=\"rmsprop\",\n",
        "              loss=\"binary_crossentropy\",\n",
        "              metrics=[\"accuracy\"])\n",
        "history_dropout = model.fit(\n",
        "    train_data, train_labels,\n",
        "    epochs=20, batch_size=512, validation_split=0.4)\n",
        "\n",
        "model = keras.Sequential([\n",
        "    layers.Dense(16, activation=\"relu\"),\n",
        "    layers.Dense(16, activation=\"relu\"),\n",
        "    layers.Dense(1, activation=\"sigmoid\")\n",
        "])\n",
        "model.compile(optimizer=\"rmsprop\",\n",
        "              loss=\"binary_crossentropy\",\n",
        "              metrics=[\"accuracy\"])\n",
        "history_model = model.fit(\n",
        "    train_data, train_labels,\n",
        "    epochs=20, batch_size=512, validation_split=0.4)"
      ]
    },
    {
      "cell_type": "code",
      "source": [
        "import matplotlib.pyplot as plt\n",
        "val_loss1 = history_dropout.history[\"val_loss\"]\n",
        "val_loss2 = history_model.history[\"val_loss\"]\n",
        "epochs = range(1, 21)\n",
        "plt.plot(epochs, val_loss1, \"b--\",\n",
        "         label=\"binary crossentry with dropou\")\n",
        "plt.plot(epochs, val_loss2, \"r--\",\n",
        "         label=\"binary crossentry original\")\n",
        "plt.title(\"Effect of drop out on binary crossentry model\")\n",
        "plt.xlabel(\"Epochs\")\n",
        "plt.ylabel(\"Loss\")\n",
        "plt.legend()"
      ],
      "metadata": {
        "id": "LFCLJZKGqoIm",
        "outputId": "446031a3-cafb-48bd-917b-43e6ffe875c4",
        "colab": {
          "base_uri": "https://localhost:8080/",
          "height": 491
        }
      },
      "execution_count": 21,
      "outputs": [
        {
          "output_type": "execute_result",
          "data": {
            "text/plain": [
              "<matplotlib.legend.Legend at 0x7f080b31afd0>"
            ]
          },
          "metadata": {},
          "execution_count": 21
        },
        {
          "output_type": "display_data",
          "data": {
            "text/plain": [
              "<Figure size 640x480 with 1 Axes>"
            ],
            "image/png": "[encoded data removed]"
          },
          "metadata": {}
        }
      ]
    },
    {
      "cell_type": "markdown",
      "source": [
        "위 코드는 3개의 layers로 구성된 딥 뉴럴 네트워크 모델을 생성하고, 각각 ReLU와 sigmoid 활성화 함수를 사용합니다. 이 모델은 \"binary_crossentropy\" 손실함수와 \"accuracy\" 메트릭을 사용하여 컴파일되었으며, train_data와 train_labels 데이터셋을 사용하여 20번의 에포크 동안 학습됩니다.\n",
        "\n",
        "이 모델에서 Dropout 레이어가 추가되었습니다. Dropout은 과적합을 방지하기 위한 효과적인 기법 중 하나로, 특정 뉴런을 임의로 삭제하여 일부 특징들이 더 강제로 표현되도록 하여 모델이 더욱 일반화될 수 있도록 돕습니다. 이 모델에서는 dropout 비율이 0.5로 설정되었으며, 각 Dense 레이어 뒤에 추가되어 해당 레이어의 출력값에 대해 50%의 뉴런이 무작위로 제거됩니다.\n",
        "\n",
        "마지막으로 모델은 40%의 검증 데이터를 사용하여 모델이 얼마나 잘 일반화되었는지 모니터링합니다. 각 에포크의 손실과 정확도 값은 history_dropout 객체에 저장됩니다."
      ],
      "metadata": {
        "id": "QXB975x5phta"
      }
    },
    {
      "cell_type": "markdown",
      "metadata": {
        "id": "dQJPduMUb27Q"
      },
      "source": [
        "## Summary"
      ]
    }
  ],
  "metadata": {
    "colab": {
      "name": "chapter05_fundamentals-of-ml.i",
      "provenance": [],
      "toc_visible": true
    },
    "kernelspec": {
      "display_name": "Python 3",
      "language": "python",
      "name": "python3"
    },
    "language_info": {
      "codemirror_mode": {
        "name": "ipython",
        "version": 3
      },
      "file_extension": ".py",
      "mimetype": "text/x-python",
      "name": "python",
      "nbconvert_exporter": "python",
      "pygments_lexer": "ipython3",
      "version": "3.7.0"
    },
    "accelerator": "GPU",
    "gpuClass": "standard"
  },
  "nbformat": 4,
  "nbformat_minor": 0
}