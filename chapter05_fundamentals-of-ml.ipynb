{
  "cells": [
    {
      "cell_type": "markdown",
      "metadata": {
        "id": "yxFMkMEtwgcy"
      },
      "source": [
        "This is a companion notebook for the book [Deep Learning with Python, Second Edition](https://www.manning.com/books/deep-learning-with-python-second-edition?a_aid=keras&a_bid=76564dff). For readability, it only contains runnable code blocks and section titles, and omits everything else in the book: text paragraphs, figures, and pseudocode.\n",
        "\n",
        "**If you want to be able to follow what's going on, I recommend reading the notebook side by side with your copy of the book.**\n",
        "\n",
        "This notebook was generated for TensorFlow 2.6."
      ]
    },
    {
      "cell_type": "markdown",
      "source": [
        "-NOTE- \n",
        "\n",
        "Q1. Fitting a MNIST model with randomly shuffled labels.\n",
        "Visualize training accuracy and validation accuracy.\n",
        "\n",
        "A1. Plotting validation파트에 orginal 데이터 추가후 시각화\n"
      ],
      "metadata": {
        "id": "qB-nPjhp4-6l"
      }
    },
    {
      "cell_type": "markdown",
      "metadata": {
        "id": "G-2WteXywgc3"
      },
      "source": [
        "# Fundamentals of machine learning"
      ]
    },
    {
      "cell_type": "markdown",
      "metadata": {
        "id": "LDpg6Zyiwgc4"
      },
      "source": [
        "## Generalization: The goal of machine learning"
      ]
    },
    {
      "cell_type": "markdown",
      "metadata": {
        "id": "K35gp8PFwgc5"
      },
      "source": [
        "### Underfitting and overfitting"
      ]
    },
    {
      "cell_type": "markdown",
      "metadata": {
        "id": "8SzGRKjSwgc6"
      },
      "source": [
        "#### Noisy training data"
      ]
    },
    {
      "cell_type": "markdown",
      "metadata": {
        "id": "B3MLm2tywgc6"
      },
      "source": [
        "#### Ambiguous features"
      ]
    },
    {
      "cell_type": "markdown",
      "metadata": {
        "id": "775m-VuXwgc7"
      },
      "source": [
        "#### Rare features and spurious correlations"
      ]
    },
    {
      "cell_type": "markdown",
      "metadata": {
        "id": "NQ3n2iobwgc7"
      },
      "source": [
        "**Adding white-noise channels or all-zeros channels to MNIST**"
      ]
    },
    {
      "cell_type": "code",
      "execution_count": 1,
      "metadata": {
        "id": "2KLichecwgc8"
      },
      "outputs": [],
      "source": [
        "from tensorflow.keras.datasets import mnist\n",
        "import numpy as np\n",
        "\n",
        "(train_images, train_labels), _ = mnist.load_data()\n",
        "train_images = train_images.reshape((60000, 28 * 28))\n",
        "train_images = train_images.astype(\"float32\") / 255\n",
        "\n",
        "train_images_with_noise_channels = np.concatenate(\n",
        "    [train_images, np.random.random((len(train_images), 784))], axis=1)\n",
        "\n",
        "train_images_with_zeros_channels = np.concatenate(\n",
        "    [train_images, np.zeros((len(train_images), 784))], axis=1)"
      ]
    },
    {
      "cell_type": "markdown",
      "metadata": {
        "id": "X0mpdZnywgc_"
      },
      "source": [
        "**Training the same model on MNIST data with noise channels or all-zero channels**"
      ]
    },
    {
      "cell_type": "code",
      "execution_count": 2,
      "metadata": {
        "id": "MRs7C5hrwgdA",
        "outputId": "17f39877-f685-4ce8-d5ba-3f9a36c44b8d",
        "colab": {
          "base_uri": "https://localhost:8080/"
        }
      },
      "outputs": [
        {
          "output_type": "stream",
          "name": "stdout",
          "text": [
            "Epoch 1/10\n",
            "375/375 [==============================] - 6s 4ms/step - loss: 0.6231 - accuracy: 0.8087 - val_loss: 0.3096 - val_accuracy: 0.9041\n",
            "Epoch 2/10\n",
            "375/375 [==============================] - 1s 4ms/step - loss: 0.2539 - accuracy: 0.9219 - val_loss: 0.2757 - val_accuracy: 0.9122\n",
            "Epoch 3/10\n",
            "375/375 [==============================] - 1s 3ms/step - loss: 0.1647 - accuracy: 0.9496 - val_loss: 0.1626 - val_accuracy: 0.9507\n",
            "Epoch 4/10\n",
            "375/375 [==============================] - 1s 3ms/step - loss: 0.1167 - accuracy: 0.9633 - val_loss: 0.2177 - val_accuracy: 0.9327\n",
            "Epoch 5/10\n",
            "375/375 [==============================] - 2s 4ms/step - loss: 0.0854 - accuracy: 0.9732 - val_loss: 0.1255 - val_accuracy: 0.9636\n",
            "Epoch 6/10\n",
            "375/375 [==============================] - 2s 4ms/step - loss: 0.0637 - accuracy: 0.9799 - val_loss: 0.1226 - val_accuracy: 0.9675\n",
            "Epoch 7/10\n",
            "375/375 [==============================] - 1s 3ms/step - loss: 0.0465 - accuracy: 0.9854 - val_loss: 0.1223 - val_accuracy: 0.9670\n",
            "Epoch 8/10\n",
            "375/375 [==============================] - 1s 4ms/step - loss: 0.0338 - accuracy: 0.9893 - val_loss: 0.1099 - val_accuracy: 0.9698\n",
            "Epoch 9/10\n",
            "375/375 [==============================] - 1s 3ms/step - loss: 0.0253 - accuracy: 0.9922 - val_loss: 0.1215 - val_accuracy: 0.9669\n",
            "Epoch 10/10\n",
            "375/375 [==============================] - 1s 3ms/step - loss: 0.0185 - accuracy: 0.9942 - val_loss: 0.1259 - val_accuracy: 0.9682\n",
            "Epoch 1/10\n",
            "375/375 [==============================] - 3s 5ms/step - loss: 0.2988 - accuracy: 0.9131 - val_loss: 0.1599 - val_accuracy: 0.9538\n",
            "Epoch 2/10\n",
            "375/375 [==============================] - 1s 3ms/step - loss: 0.1245 - accuracy: 0.9633 - val_loss: 0.1114 - val_accuracy: 0.9662\n",
            "Epoch 3/10\n",
            "375/375 [==============================] - 1s 3ms/step - loss: 0.0826 - accuracy: 0.9758 - val_loss: 0.0953 - val_accuracy: 0.9711\n",
            "Epoch 4/10\n",
            "375/375 [==============================] - 2s 4ms/step - loss: 0.0584 - accuracy: 0.9827 - val_loss: 0.0788 - val_accuracy: 0.9764\n",
            "Epoch 5/10\n",
            "375/375 [==============================] - 1s 4ms/step - loss: 0.0438 - accuracy: 0.9875 - val_loss: 0.0794 - val_accuracy: 0.9778\n",
            "Epoch 6/10\n",
            "375/375 [==============================] - 1s 3ms/step - loss: 0.0329 - accuracy: 0.9906 - val_loss: 0.0813 - val_accuracy: 0.9762\n",
            "Epoch 7/10\n",
            "375/375 [==============================] - 1s 3ms/step - loss: 0.0250 - accuracy: 0.9930 - val_loss: 0.0752 - val_accuracy: 0.9782\n",
            "Epoch 8/10\n",
            "375/375 [==============================] - 1s 3ms/step - loss: 0.0187 - accuracy: 0.9951 - val_loss: 0.0729 - val_accuracy: 0.9796\n",
            "Epoch 9/10\n",
            "375/375 [==============================] - 1s 3ms/step - loss: 0.0142 - accuracy: 0.9962 - val_loss: 0.0767 - val_accuracy: 0.9782\n",
            "Epoch 10/10\n",
            "375/375 [==============================] - 2s 5ms/step - loss: 0.0108 - accuracy: 0.9973 - val_loss: 0.0788 - val_accuracy: 0.9805\n",
            "Epoch 1/10\n",
            "375/375 [==============================] - 2s 4ms/step - loss: 0.2970 - accuracy: 0.9152 - val_loss: 0.1486 - val_accuracy: 0.9579\n",
            "Epoch 2/10\n",
            "375/375 [==============================] - 1s 3ms/step - loss: 0.1220 - accuracy: 0.9640 - val_loss: 0.1015 - val_accuracy: 0.9694\n",
            "Epoch 3/10\n",
            "375/375 [==============================] - 1s 3ms/step - loss: 0.0793 - accuracy: 0.9766 - val_loss: 0.0929 - val_accuracy: 0.9729\n",
            "Epoch 4/10\n",
            "375/375 [==============================] - 1s 3ms/step - loss: 0.0574 - accuracy: 0.9832 - val_loss: 0.0846 - val_accuracy: 0.9754\n",
            "Epoch 5/10\n",
            "375/375 [==============================] - 1s 3ms/step - loss: 0.0428 - accuracy: 0.9870 - val_loss: 0.0759 - val_accuracy: 0.9772\n",
            "Epoch 6/10\n",
            "375/375 [==============================] - 1s 3ms/step - loss: 0.0325 - accuracy: 0.9911 - val_loss: 0.0755 - val_accuracy: 0.9787\n",
            "Epoch 7/10\n",
            "375/375 [==============================] - 1s 3ms/step - loss: 0.0243 - accuracy: 0.9929 - val_loss: 0.0692 - val_accuracy: 0.9808\n",
            "Epoch 8/10\n",
            "375/375 [==============================] - 2s 4ms/step - loss: 0.0186 - accuracy: 0.9950 - val_loss: 0.0750 - val_accuracy: 0.9791\n",
            "Epoch 9/10\n",
            "375/375 [==============================] - 2s 4ms/step - loss: 0.0136 - accuracy: 0.9969 - val_loss: 0.0768 - val_accuracy: 0.9790\n",
            "Epoch 10/10\n",
            "375/375 [==============================] - 1s 3ms/step - loss: 0.0106 - accuracy: 0.9977 - val_loss: 0.0841 - val_accuracy: 0.9780\n"
          ]
        }
      ],
      "source": [
        "from tensorflow import keras\n",
        "from tensorflow.keras import layers\n",
        "\n",
        "def get_model():\n",
        "    model = keras.Sequential([\n",
        "        layers.Dense(512, activation=\"relu\"),\n",
        "        layers.Dense(10, activation=\"softmax\")\n",
        "    ])\n",
        "    model.compile(optimizer=\"rmsprop\",\n",
        "                  loss=\"sparse_categorical_crossentropy\",\n",
        "                  metrics=[\"accuracy\"])\n",
        "    return model\n",
        "\n",
        "model = get_model()\n",
        "history_noise = model.fit(\n",
        "    train_images_with_noise_channels, train_labels,\n",
        "    epochs=10,\n",
        "    batch_size=128,\n",
        "    validation_split=0.2)\n",
        "\n",
        "model = get_model()\n",
        "history_zeros = model.fit(\n",
        "    train_images_with_zeros_channels, train_labels,\n",
        "    epochs=10,\n",
        "    batch_size=128,\n",
        "    validation_split=0.2)\n",
        "\n",
        "model3 = get_model()\n",
        "history_orignal = model3.fit(\n",
        "    train_images, train_labels,\n",
        "    epochs=10,\n",
        "    batch_size=128,\n",
        "    validation_split=0.2)"
      ]
    },
    {
      "cell_type": "markdown",
      "metadata": {
        "id": "7Zo8aMVCwgdB"
      },
      "source": [
        "**Plotting a validation accuracy comparison**"
      ]
    },
    {
      "cell_type": "code",
      "execution_count": 4,
      "metadata": {
        "id": "PvvQFPrywgdB",
        "outputId": "a112027c-460d-4f89-d216-a3a8c2b83375",
        "colab": {
          "base_uri": "https://localhost:8080/",
          "height": 491
        }
      },
      "outputs": [
        {
          "output_type": "execute_result",
          "data": {
            "text/plain": [
              "<matplotlib.legend.Legend at 0x7f7b00267910>"
            ]
          },
          "metadata": {},
          "execution_count": 4
        },
        {
          "output_type": "display_data",
          "data": {
            "text/plain": [
              "<Figure size 640x480 with 1 Axes>"
            ],
            "image/png": "[encoded data removed]"
          },
          "metadata": {}
        }
      ],
      "source": [
        "import matplotlib.pyplot as plt\n",
        "val_acc_noise = history_noise.history[\"val_accuracy\"]\n",
        "val_acc_zeros = history_zeros.history[\"val_accuracy\"]\n",
        "val_acc_original = history_orignal.history[\"val_accuracy\"]\n",
        "epochs = range(1, 11)\n",
        "plt.plot(epochs, val_acc_noise, \"b-\",\n",
        "         label=\"Validation accuracy with noise channels\")\n",
        "plt.plot(epochs, val_acc_zeros, \"b--\",\n",
        "         label=\"Validation accuracy with zeros channels\")\n",
        "plt.plot(epochs, val_acc_original, \"r--\",\n",
        "         label=\"Validation accuracy with original\")\n",
        "plt.title(\"Effect of noise channels on validation accuracy\")\n",
        "\n",
        "plt.xlabel(\"Epochs\")\n",
        "plt.ylabel(\"Accuracy\")\n",
        "plt.legend()"
      ]
    },
    {
      "cell_type": "markdown",
      "metadata": {
        "id": "gKqur2_KwgdC"
      },
      "source": [
        "### The nature of generalization in deep learning"
      ]
    },
    {
      "cell_type": "markdown",
      "metadata": {
        "id": "Ur1mYMtlwgdC"
      },
      "source": [
        "**Fitting a MNIST model with randomly shuffled labels**"
      ]
    },
    {
      "cell_type": "code",
      "execution_count": 5,
      "metadata": {
        "id": "J7eTuA35wgdD",
        "outputId": "b146b5c7-3774-443d-c4e4-58b2b475290b",
        "colab": {
          "base_uri": "https://localhost:8080/"
        }
      },
      "outputs": [
        {
          "output_type": "stream",
          "name": "stdout",
          "text": [
            "Epoch 1/100\n",
            "375/375 [==============================] - 2s 4ms/step - loss: 2.3148 - accuracy: 0.1040 - val_loss: 2.3066 - val_accuracy: 0.1051\n",
            "Epoch 2/100\n",
            "375/375 [==============================] - 1s 3ms/step - loss: 2.2988 - accuracy: 0.1175 - val_loss: 2.3104 - val_accuracy: 0.1054\n",
            "Epoch 3/100\n",
            "375/375 [==============================] - 1s 3ms/step - loss: 2.2910 - accuracy: 0.1268 - val_loss: 2.3127 - val_accuracy: 0.1075\n",
            "Epoch 4/100\n",
            "375/375 [==============================] - 1s 3ms/step - loss: 2.2791 - accuracy: 0.1419 - val_loss: 2.3208 - val_accuracy: 0.1031\n",
            "Epoch 5/100\n",
            "375/375 [==============================] - 1s 3ms/step - loss: 2.2630 - accuracy: 0.1527 - val_loss: 2.3273 - val_accuracy: 0.1055\n",
            "Epoch 6/100\n",
            "375/375 [==============================] - 1s 3ms/step - loss: 2.2432 - accuracy: 0.1644 - val_loss: 2.3504 - val_accuracy: 0.1053\n",
            "Epoch 7/100\n",
            "375/375 [==============================] - 1s 3ms/step - loss: 2.2194 - accuracy: 0.1818 - val_loss: 2.3588 - val_accuracy: 0.1023\n",
            "Epoch 8/100\n",
            "375/375 [==============================] - 2s 4ms/step - loss: 2.1927 - accuracy: 0.1985 - val_loss: 2.3773 - val_accuracy: 0.1053\n",
            "Epoch 9/100\n",
            "375/375 [==============================] - 1s 3ms/step - loss: 2.1623 - accuracy: 0.2127 - val_loss: 2.3958 - val_accuracy: 0.1011\n",
            "Epoch 10/100\n",
            "375/375 [==============================] - 1s 3ms/step - loss: 2.1291 - accuracy: 0.2307 - val_loss: 2.4294 - val_accuracy: 0.0988\n",
            "Epoch 11/100\n",
            "375/375 [==============================] - 2s 4ms/step - loss: 2.0957 - accuracy: 0.2495 - val_loss: 2.4497 - val_accuracy: 0.0997\n",
            "Epoch 12/100\n",
            "375/375 [==============================] - 1s 4ms/step - loss: 2.0585 - accuracy: 0.2653 - val_loss: 2.4704 - val_accuracy: 0.1000\n",
            "Epoch 13/100\n",
            "375/375 [==============================] - 1s 3ms/step - loss: 2.0214 - accuracy: 0.2810 - val_loss: 2.4966 - val_accuracy: 0.0999\n",
            "Epoch 14/100\n",
            "375/375 [==============================] - 1s 3ms/step - loss: 1.9838 - accuracy: 0.2986 - val_loss: 2.5355 - val_accuracy: 0.0987\n",
            "Epoch 15/100\n",
            "375/375 [==============================] - 1s 3ms/step - loss: 1.9444 - accuracy: 0.3139 - val_loss: 2.5619 - val_accuracy: 0.1053\n",
            "Epoch 16/100\n",
            "375/375 [==============================] - 1s 3ms/step - loss: 1.9063 - accuracy: 0.3332 - val_loss: 2.5998 - val_accuracy: 0.0988\n",
            "Epoch 17/100\n",
            "375/375 [==============================] - 2s 4ms/step - loss: 1.8668 - accuracy: 0.3471 - val_loss: 2.6163 - val_accuracy: 0.0986\n",
            "Epoch 18/100\n",
            "375/375 [==============================] - 1s 3ms/step - loss: 1.8270 - accuracy: 0.3656 - val_loss: 2.6850 - val_accuracy: 0.0987\n",
            "Epoch 19/100\n",
            "375/375 [==============================] - 1s 3ms/step - loss: 1.7892 - accuracy: 0.3789 - val_loss: 2.7109 - val_accuracy: 0.0975\n",
            "Epoch 20/100\n",
            "375/375 [==============================] - 1s 3ms/step - loss: 1.7503 - accuracy: 0.3932 - val_loss: 2.7531 - val_accuracy: 0.0998\n",
            "Epoch 21/100\n",
            "375/375 [==============================] - 1s 3ms/step - loss: 1.7116 - accuracy: 0.4084 - val_loss: 2.8210 - val_accuracy: 0.1033\n",
            "Epoch 22/100\n",
            "375/375 [==============================] - 1s 3ms/step - loss: 1.6753 - accuracy: 0.4211 - val_loss: 2.8435 - val_accuracy: 0.1013\n",
            "Epoch 23/100\n",
            "375/375 [==============================] - 1s 3ms/step - loss: 1.6414 - accuracy: 0.4346 - val_loss: 2.8969 - val_accuracy: 0.0969\n",
            "Epoch 24/100\n",
            "375/375 [==============================] - 1s 3ms/step - loss: 1.6038 - accuracy: 0.4518 - val_loss: 2.9334 - val_accuracy: 0.1027\n",
            "Epoch 25/100\n",
            "375/375 [==============================] - 1s 3ms/step - loss: 1.5699 - accuracy: 0.4625 - val_loss: 2.9552 - val_accuracy: 0.0988\n",
            "Epoch 26/100\n",
            "375/375 [==============================] - 1s 3ms/step - loss: 1.5344 - accuracy: 0.4762 - val_loss: 3.0077 - val_accuracy: 0.1012\n",
            "Epoch 27/100\n",
            "375/375 [==============================] - 1s 4ms/step - loss: 1.5016 - accuracy: 0.4871 - val_loss: 3.0583 - val_accuracy: 0.0978\n",
            "Epoch 28/100\n",
            "375/375 [==============================] - 1s 4ms/step - loss: 1.4696 - accuracy: 0.5008 - val_loss: 3.1240 - val_accuracy: 0.1009\n",
            "Epoch 29/100\n",
            "375/375 [==============================] - 1s 3ms/step - loss: 1.4372 - accuracy: 0.5138 - val_loss: 3.1769 - val_accuracy: 0.0980\n",
            "Epoch 30/100\n",
            "375/375 [==============================] - 1s 3ms/step - loss: 1.4068 - accuracy: 0.5232 - val_loss: 3.2056 - val_accuracy: 0.0981\n",
            "Epoch 31/100\n",
            "375/375 [==============================] - 1s 3ms/step - loss: 1.3734 - accuracy: 0.5375 - val_loss: 3.2756 - val_accuracy: 0.0988\n",
            "Epoch 32/100\n",
            "375/375 [==============================] - 1s 3ms/step - loss: 1.3466 - accuracy: 0.5458 - val_loss: 3.3182 - val_accuracy: 0.0985\n",
            "Epoch 33/100\n",
            "375/375 [==============================] - 1s 3ms/step - loss: 1.3189 - accuracy: 0.5555 - val_loss: 3.3715 - val_accuracy: 0.1007\n",
            "Epoch 34/100\n",
            "375/375 [==============================] - 2s 5ms/step - loss: 1.2907 - accuracy: 0.5644 - val_loss: 3.4404 - val_accuracy: 0.0986\n",
            "Epoch 35/100\n",
            "375/375 [==============================] - 2s 5ms/step - loss: 1.2631 - accuracy: 0.5747 - val_loss: 3.4597 - val_accuracy: 0.1007\n",
            "Epoch 36/100\n",
            "375/375 [==============================] - 3s 8ms/step - loss: 1.2381 - accuracy: 0.5841 - val_loss: 3.5400 - val_accuracy: 0.0977\n",
            "Epoch 37/100\n",
            "375/375 [==============================] - 2s 5ms/step - loss: 1.2115 - accuracy: 0.5943 - val_loss: 3.6137 - val_accuracy: 0.1011\n",
            "Epoch 38/100\n",
            "375/375 [==============================] - 1s 4ms/step - loss: 1.1839 - accuracy: 0.6037 - val_loss: 3.6481 - val_accuracy: 0.1018\n",
            "Epoch 39/100\n",
            "375/375 [==============================] - 1s 3ms/step - loss: 1.1602 - accuracy: 0.6131 - val_loss: 3.7067 - val_accuracy: 0.1028\n",
            "Epoch 40/100\n",
            "375/375 [==============================] - 1s 3ms/step - loss: 1.1358 - accuracy: 0.6211 - val_loss: 3.7749 - val_accuracy: 0.1032\n",
            "Epoch 41/100\n",
            "375/375 [==============================] - 1s 3ms/step - loss: 1.1117 - accuracy: 0.6302 - val_loss: 3.8328 - val_accuracy: 0.0980\n",
            "Epoch 42/100\n",
            "375/375 [==============================] - 1s 3ms/step - loss: 1.0883 - accuracy: 0.6371 - val_loss: 3.8902 - val_accuracy: 0.1016\n",
            "Epoch 43/100\n",
            "375/375 [==============================] - 1s 3ms/step - loss: 1.0642 - accuracy: 0.6446 - val_loss: 3.9632 - val_accuracy: 0.1009\n",
            "Epoch 44/100\n",
            "375/375 [==============================] - 1s 4ms/step - loss: 1.0468 - accuracy: 0.6529 - val_loss: 4.0272 - val_accuracy: 0.0997\n",
            "Epoch 45/100\n",
            "375/375 [==============================] - 2s 4ms/step - loss: 1.0218 - accuracy: 0.6616 - val_loss: 4.0903 - val_accuracy: 0.1021\n",
            "Epoch 46/100\n",
            "375/375 [==============================] - 1s 3ms/step - loss: 1.0012 - accuracy: 0.6662 - val_loss: 4.1134 - val_accuracy: 0.1008\n",
            "Epoch 47/100\n",
            "375/375 [==============================] - 1s 3ms/step - loss: 0.9797 - accuracy: 0.6744 - val_loss: 4.1609 - val_accuracy: 0.1018\n",
            "Epoch 48/100\n",
            "375/375 [==============================] - 1s 3ms/step - loss: 0.9592 - accuracy: 0.6856 - val_loss: 4.2572 - val_accuracy: 0.1039\n",
            "Epoch 49/100\n",
            "375/375 [==============================] - 1s 3ms/step - loss: 0.9399 - accuracy: 0.6885 - val_loss: 4.3015 - val_accuracy: 0.1002\n",
            "Epoch 50/100\n",
            "375/375 [==============================] - 1s 3ms/step - loss: 0.9220 - accuracy: 0.6960 - val_loss: 4.3921 - val_accuracy: 0.0996\n",
            "Epoch 51/100\n",
            "375/375 [==============================] - 1s 3ms/step - loss: 0.9036 - accuracy: 0.7027 - val_loss: 4.4464 - val_accuracy: 0.1025\n",
            "Epoch 52/100\n",
            "375/375 [==============================] - 1s 3ms/step - loss: 0.8847 - accuracy: 0.7072 - val_loss: 4.5338 - val_accuracy: 0.1009\n",
            "Epoch 53/100\n",
            "375/375 [==============================] - 1s 3ms/step - loss: 0.8660 - accuracy: 0.7148 - val_loss: 4.6190 - val_accuracy: 0.1028\n",
            "Epoch 54/100\n",
            "375/375 [==============================] - 2s 4ms/step - loss: 0.8499 - accuracy: 0.7190 - val_loss: 4.6579 - val_accuracy: 0.1016\n",
            "Epoch 55/100\n",
            "375/375 [==============================] - 1s 3ms/step - loss: 0.8313 - accuracy: 0.7295 - val_loss: 4.7577 - val_accuracy: 0.0997\n",
            "Epoch 56/100\n",
            "375/375 [==============================] - 1s 3ms/step - loss: 0.8150 - accuracy: 0.7346 - val_loss: 4.7594 - val_accuracy: 0.1011\n",
            "Epoch 57/100\n",
            "375/375 [==============================] - 1s 3ms/step - loss: 0.7965 - accuracy: 0.7390 - val_loss: 4.8587 - val_accuracy: 0.1018\n",
            "Epoch 58/100\n",
            "375/375 [==============================] - 1s 3ms/step - loss: 0.7823 - accuracy: 0.7442 - val_loss: 4.9219 - val_accuracy: 0.0990\n",
            "Epoch 59/100\n",
            "375/375 [==============================] - 1s 3ms/step - loss: 0.7646 - accuracy: 0.7496 - val_loss: 4.9660 - val_accuracy: 0.1015\n",
            "Epoch 60/100\n",
            "375/375 [==============================] - 1s 3ms/step - loss: 0.7495 - accuracy: 0.7547 - val_loss: 5.0702 - val_accuracy: 0.1007\n",
            "Epoch 61/100\n",
            "375/375 [==============================] - 1s 3ms/step - loss: 0.7344 - accuracy: 0.7609 - val_loss: 5.1292 - val_accuracy: 0.0997\n",
            "Epoch 62/100\n",
            "375/375 [==============================] - 1s 3ms/step - loss: 0.7201 - accuracy: 0.7670 - val_loss: 5.2069 - val_accuracy: 0.1027\n",
            "Epoch 63/100\n",
            "375/375 [==============================] - 1s 3ms/step - loss: 0.7049 - accuracy: 0.7699 - val_loss: 5.2951 - val_accuracy: 0.1019\n",
            "Epoch 64/100\n",
            "375/375 [==============================] - 2s 4ms/step - loss: 0.6908 - accuracy: 0.7769 - val_loss: 5.3227 - val_accuracy: 0.1033\n",
            "Epoch 65/100\n",
            "375/375 [==============================] - 1s 3ms/step - loss: 0.6764 - accuracy: 0.7800 - val_loss: 5.4045 - val_accuracy: 0.1029\n",
            "Epoch 66/100\n",
            "375/375 [==============================] - 1s 3ms/step - loss: 0.6661 - accuracy: 0.7833 - val_loss: 5.4580 - val_accuracy: 0.1019\n",
            "Epoch 67/100\n",
            "375/375 [==============================] - 1s 3ms/step - loss: 0.6491 - accuracy: 0.7921 - val_loss: 5.5805 - val_accuracy: 0.1007\n",
            "Epoch 68/100\n",
            "375/375 [==============================] - 1s 3ms/step - loss: 0.6370 - accuracy: 0.7936 - val_loss: 5.6233 - val_accuracy: 0.1018\n",
            "Epoch 69/100\n",
            "375/375 [==============================] - 1s 3ms/step - loss: 0.6257 - accuracy: 0.7987 - val_loss: 5.6912 - val_accuracy: 0.1018\n",
            "Epoch 70/100\n",
            "375/375 [==============================] - 1s 3ms/step - loss: 0.6128 - accuracy: 0.8024 - val_loss: 5.7950 - val_accuracy: 0.1032\n",
            "Epoch 71/100\n",
            "375/375 [==============================] - 1s 3ms/step - loss: 0.5997 - accuracy: 0.8074 - val_loss: 5.8282 - val_accuracy: 0.1037\n",
            "Epoch 72/100\n",
            "375/375 [==============================] - 1s 3ms/step - loss: 0.5881 - accuracy: 0.8125 - val_loss: 5.9270 - val_accuracy: 0.1014\n",
            "Epoch 73/100\n",
            "375/375 [==============================] - 1s 3ms/step - loss: 0.5759 - accuracy: 0.8154 - val_loss: 5.9976 - val_accuracy: 0.1019\n",
            "Epoch 74/100\n",
            "375/375 [==============================] - 2s 4ms/step - loss: 0.5656 - accuracy: 0.8196 - val_loss: 6.0522 - val_accuracy: 0.1004\n",
            "Epoch 75/100\n",
            "375/375 [==============================] - 1s 3ms/step - loss: 0.5552 - accuracy: 0.8237 - val_loss: 6.1504 - val_accuracy: 0.1028\n",
            "Epoch 76/100\n",
            "375/375 [==============================] - 1s 3ms/step - loss: 0.5452 - accuracy: 0.8264 - val_loss: 6.1847 - val_accuracy: 0.1010\n",
            "Epoch 77/100\n",
            "375/375 [==============================] - 1s 3ms/step - loss: 0.5354 - accuracy: 0.8298 - val_loss: 6.2815 - val_accuracy: 0.0993\n",
            "Epoch 78/100\n",
            "375/375 [==============================] - 1s 3ms/step - loss: 0.5250 - accuracy: 0.8319 - val_loss: 6.3531 - val_accuracy: 0.1013\n",
            "Epoch 79/100\n",
            "375/375 [==============================] - 1s 3ms/step - loss: 0.5117 - accuracy: 0.8393 - val_loss: 6.4177 - val_accuracy: 0.1000\n",
            "Epoch 80/100\n",
            "375/375 [==============================] - 1s 3ms/step - loss: 0.5030 - accuracy: 0.8419 - val_loss: 6.4973 - val_accuracy: 0.1022\n",
            "Epoch 81/100\n",
            "375/375 [==============================] - 1s 3ms/step - loss: 0.4943 - accuracy: 0.8447 - val_loss: 6.5884 - val_accuracy: 0.1003\n",
            "Epoch 82/100\n",
            "375/375 [==============================] - 1s 3ms/step - loss: 0.4835 - accuracy: 0.8479 - val_loss: 6.6062 - val_accuracy: 0.0997\n",
            "Epoch 83/100\n",
            "375/375 [==============================] - 1s 3ms/step - loss: 0.4748 - accuracy: 0.8506 - val_loss: 6.7429 - val_accuracy: 0.1029\n",
            "Epoch 84/100\n",
            "375/375 [==============================] - 2s 5ms/step - loss: 0.4660 - accuracy: 0.8541 - val_loss: 6.8061 - val_accuracy: 0.1013\n",
            "Epoch 85/100\n",
            "375/375 [==============================] - 1s 4ms/step - loss: 0.4580 - accuracy: 0.8568 - val_loss: 6.8702 - val_accuracy: 0.0961\n",
            "Epoch 86/100\n",
            "375/375 [==============================] - 1s 3ms/step - loss: 0.4485 - accuracy: 0.8594 - val_loss: 6.9759 - val_accuracy: 0.0995\n",
            "Epoch 87/100\n",
            "375/375 [==============================] - 1s 3ms/step - loss: 0.4426 - accuracy: 0.8601 - val_loss: 7.0316 - val_accuracy: 0.1011\n",
            "Epoch 88/100\n",
            "375/375 [==============================] - 1s 3ms/step - loss: 0.4317 - accuracy: 0.8646 - val_loss: 7.1173 - val_accuracy: 0.0991\n",
            "Epoch 89/100\n",
            "375/375 [==============================] - 1s 3ms/step - loss: 0.4250 - accuracy: 0.8661 - val_loss: 7.1485 - val_accuracy: 0.1017\n",
            "Epoch 90/100\n",
            "375/375 [==============================] - 1s 3ms/step - loss: 0.4193 - accuracy: 0.8693 - val_loss: 7.2469 - val_accuracy: 0.1013\n",
            "Epoch 91/100\n",
            "375/375 [==============================] - 1s 3ms/step - loss: 0.4096 - accuracy: 0.8721 - val_loss: 7.3499 - val_accuracy: 0.1029\n",
            "Epoch 92/100\n",
            "375/375 [==============================] - 1s 3ms/step - loss: 0.4001 - accuracy: 0.8748 - val_loss: 7.3709 - val_accuracy: 0.1045\n",
            "Epoch 93/100\n",
            "375/375 [==============================] - 2s 4ms/step - loss: 0.3945 - accuracy: 0.8771 - val_loss: 7.4829 - val_accuracy: 0.1027\n",
            "Epoch 94/100\n",
            "375/375 [==============================] - 2s 4ms/step - loss: 0.3863 - accuracy: 0.8803 - val_loss: 7.5536 - val_accuracy: 0.0990\n",
            "Epoch 95/100\n",
            "375/375 [==============================] - 1s 3ms/step - loss: 0.3794 - accuracy: 0.8836 - val_loss: 7.6290 - val_accuracy: 0.1023\n",
            "Epoch 96/100\n",
            "375/375 [==============================] - 1s 3ms/step - loss: 0.3735 - accuracy: 0.8835 - val_loss: 7.7208 - val_accuracy: 0.1002\n",
            "Epoch 97/100\n",
            "375/375 [==============================] - 1s 3ms/step - loss: 0.3657 - accuracy: 0.8863 - val_loss: 7.7321 - val_accuracy: 0.0993\n",
            "Epoch 98/100\n",
            "375/375 [==============================] - 1s 3ms/step - loss: 0.3595 - accuracy: 0.8904 - val_loss: 7.8244 - val_accuracy: 0.1030\n",
            "Epoch 99/100\n",
            "375/375 [==============================] - 1s 3ms/step - loss: 0.3536 - accuracy: 0.8899 - val_loss: 7.9296 - val_accuracy: 0.1019\n",
            "Epoch 100/100\n",
            "375/375 [==============================] - 1s 3ms/step - loss: 0.3473 - accuracy: 0.8940 - val_loss: 7.9484 - val_accuracy: 0.1018\n"
          ]
        },
        {
          "output_type": "execute_result",
          "data": {
            "text/plain": [
              "<keras.callbacks.History at 0x7f32b81bad00>"
            ]
          },
          "metadata": {},
          "execution_count": 5
        }
      ],
      "source": [
        "(train_images, train_labels), _ = mnist.load_data()\n",
        "train_images = train_images.reshape((60000, 28 * 28))\n",
        "train_images = train_images.astype(\"float32\") / 255\n",
        "\n",
        "random_train_labels = train_labels[:]\n",
        "np.random.shuffle(random_train_labels)\n",
        "\n",
        "model = keras.Sequential([\n",
        "    layers.Dense(512, activation=\"relu\"),\n",
        "    layers.Dense(10, activation=\"softmax\")\n",
        "])\n",
        "model.compile(optimizer=\"rmsprop\",\n",
        "              loss=\"sparse_categorical_crossentropy\",\n",
        "              metrics=[\"accuracy\"])\n",
        "model.fit(train_images, random_train_labels,\n",
        "          epochs=100,\n",
        "          batch_size=128,\n",
        "          validation_split=0.2)"
      ]
    },
    {
      "cell_type": "markdown",
      "metadata": {
        "id": "HOtG2IuHwgdD"
      },
      "source": [
        "#### The manifold hypothesis"
      ]
    },
    {
      "cell_type": "markdown",
      "metadata": {
        "id": "pyDqCWXEwgdD"
      },
      "source": [
        "#### Interpolation as a source of generalization"
      ]
    },
    {
      "cell_type": "markdown",
      "metadata": {
        "id": "PN9u7L9xwgdE"
      },
      "source": [
        "#### Why deep learning works"
      ]
    },
    {
      "cell_type": "markdown",
      "metadata": {
        "id": "NOCZnuZ-wgdE"
      },
      "source": [
        "#### Training data is paramount"
      ]
    },
    {
      "cell_type": "markdown",
      "metadata": {
        "id": "b9uxw2tpwgdE"
      },
      "source": [
        "## Evaluating machine-learning models"
      ]
    },
    {
      "cell_type": "markdown",
      "metadata": {
        "id": "mi62H4djwgdF"
      },
      "source": [
        "### Training, validation, and test sets"
      ]
    },
    {
      "cell_type": "markdown",
      "metadata": {
        "id": "tyOIPkgKwgdF"
      },
      "source": [
        "#### Simple hold-out validation"
      ]
    },
    {
      "cell_type": "markdown",
      "metadata": {
        "id": "K_CmFQ6owgdF"
      },
      "source": [
        "#### K-fold validation"
      ]
    },
    {
      "cell_type": "markdown",
      "metadata": {
        "id": "LGFiNw1bwgdG"
      },
      "source": [
        "#### Iterated K-fold validation with shuffling"
      ]
    },
    {
      "cell_type": "markdown",
      "metadata": {
        "id": "n_fERsg3wgdG"
      },
      "source": [
        "### Beating a common-sense baseline"
      ]
    },
    {
      "cell_type": "markdown",
      "metadata": {
        "id": "MKzQybCGwgdG"
      },
      "source": [
        "### Things to keep in mind about model evaluation"
      ]
    },
    {
      "cell_type": "markdown",
      "metadata": {
        "id": "eSExG4tXwgdG"
      },
      "source": [
        "## Improving model fit"
      ]
    },
    {
      "cell_type": "markdown",
      "metadata": {
        "id": "hqHp_r2ewgdG"
      },
      "source": [
        "### Tuning key gradient descent parameters"
      ]
    },
    {
      "cell_type": "markdown",
      "metadata": {
        "id": "dT8GeCe0wgdH"
      },
      "source": [
        "**Training a MNIST model with an incorrectly high learning rate**"
      ]
    },
    {
      "cell_type": "code",
      "execution_count": 5,
      "metadata": {
        "id": "vjePaeSiwgdH",
        "outputId": "6d045264-b6ff-4c19-f9e5-1736312e343f",
        "colab": {
          "base_uri": "https://localhost:8080/"
        }
      },
      "outputs": [
        {
          "output_type": "stream",
          "name": "stdout",
          "text": [
            "Epoch 1/10\n",
            "375/375 [==============================] - 2s 4ms/step - loss: 820.0791 - accuracy: 0.3379 - val_loss: 2.3341 - val_accuracy: 0.2365\n",
            "Epoch 2/10\n",
            "375/375 [==============================] - 1s 3ms/step - loss: 3.4081 - accuracy: 0.2198 - val_loss: 2.6635 - val_accuracy: 0.1898\n",
            "Epoch 3/10\n",
            "375/375 [==============================] - 1s 3ms/step - loss: 3.1894 - accuracy: 0.1862 - val_loss: 2.1295 - val_accuracy: 0.1893\n",
            "Epoch 4/10\n",
            "375/375 [==============================] - 1s 3ms/step - loss: 2.3802 - accuracy: 0.2101 - val_loss: 2.1966 - val_accuracy: 0.2177\n",
            "Epoch 5/10\n",
            "375/375 [==============================] - 1s 3ms/step - loss: 2.7398 - accuracy: 0.1936 - val_loss: 2.1940 - val_accuracy: 0.1867\n",
            "Epoch 6/10\n",
            "375/375 [==============================] - 1s 3ms/step - loss: 2.4039 - accuracy: 0.2015 - val_loss: 2.1927 - val_accuracy: 0.1906\n",
            "Epoch 7/10\n",
            "375/375 [==============================] - 1s 3ms/step - loss: 2.3078 - accuracy: 0.1945 - val_loss: 2.2768 - val_accuracy: 0.2127\n",
            "Epoch 8/10\n",
            "375/375 [==============================] - 2s 4ms/step - loss: 2.3401 - accuracy: 0.2045 - val_loss: 2.1228 - val_accuracy: 0.2128\n",
            "Epoch 9/10\n",
            "375/375 [==============================] - 2s 4ms/step - loss: 2.4573 - accuracy: 0.1986 - val_loss: 2.2144 - val_accuracy: 0.1940\n",
            "Epoch 10/10\n",
            "375/375 [==============================] - 2s 6ms/step - loss: 2.2896 - accuracy: 0.1981 - val_loss: 2.1808 - val_accuracy: 0.1892\n"
          ]
        },
        {
          "output_type": "execute_result",
          "data": {
            "text/plain": [
              "<keras.callbacks.History at 0x7f7afffb1d90>"
            ]
          },
          "metadata": {},
          "execution_count": 5
        }
      ],
      "source": [
        "(train_images, train_labels), _ = mnist.load_data()\n",
        "train_images = train_images.reshape((60000, 28 * 28))\n",
        "train_images = train_images.astype(\"float32\") / 255\n",
        "\n",
        "model = keras.Sequential([\n",
        "    layers.Dense(512, activation=\"relu\"),\n",
        "    layers.Dense(10, activation=\"softmax\")\n",
        "])\n",
        "model.compile(optimizer=keras.optimizers.RMSprop(1.),\n",
        "              loss=\"sparse_categorical_crossentropy\",\n",
        "              metrics=[\"accuracy\"])\n",
        "model.fit(train_images, train_labels,\n",
        "          epochs=10,\n",
        "          batch_size=128,\n",
        "          validation_split=0.2)"
      ]
    },
    {
      "cell_type": "markdown",
      "metadata": {
        "id": "5zZ139A1wgdH"
      },
      "source": [
        "**The same model with a more appropriate learning rate**"
      ]
    },
    {
      "cell_type": "code",
      "execution_count": 10,
      "metadata": {
        "id": "8DUNv47LwgdI",
        "outputId": "1d021b9f-3559-49cb-8c75-21e1ba81e1d8",
        "colab": {
          "base_uri": "https://localhost:8080/"
        }
      },
      "outputs": [
        {
          "output_type": "stream",
          "name": "stdout",
          "text": [
            "Epoch 1/10\n",
            "375/375 [==============================] - 2s 4ms/step - loss: 0.3450 - accuracy: 0.9105 - val_loss: 0.1282 - val_accuracy: 0.9625\n",
            "Epoch 2/10\n",
            "375/375 [==============================] - 2s 4ms/step - loss: 0.1327 - accuracy: 0.9636 - val_loss: 0.1229 - val_accuracy: 0.9669\n",
            "Epoch 3/10\n",
            "375/375 [==============================] - 1s 4ms/step - loss: 0.0967 - accuracy: 0.9737 - val_loss: 0.1538 - val_accuracy: 0.9646\n",
            "Epoch 4/10\n",
            "375/375 [==============================] - 1s 3ms/step - loss: 0.0793 - accuracy: 0.9796 - val_loss: 0.1461 - val_accuracy: 0.9687\n",
            "Epoch 5/10\n",
            "375/375 [==============================] - 1s 3ms/step - loss: 0.0694 - accuracy: 0.9820 - val_loss: 0.1665 - val_accuracy: 0.9677\n",
            "Epoch 6/10\n",
            "375/375 [==============================] - 1s 3ms/step - loss: 0.0591 - accuracy: 0.9845 - val_loss: 0.1765 - val_accuracy: 0.9703\n",
            "Epoch 7/10\n",
            "375/375 [==============================] - 1s 3ms/step - loss: 0.0480 - accuracy: 0.9880 - val_loss: 0.1789 - val_accuracy: 0.9705\n",
            "Epoch 8/10\n",
            "375/375 [==============================] - 1s 3ms/step - loss: 0.0481 - accuracy: 0.9889 - val_loss: 0.2426 - val_accuracy: 0.9680\n",
            "Epoch 9/10\n",
            "375/375 [==============================] - 1s 3ms/step - loss: 0.0455 - accuracy: 0.9890 - val_loss: 0.2253 - val_accuracy: 0.9722\n",
            "Epoch 10/10\n",
            "375/375 [==============================] - 1s 3ms/step - loss: 0.0366 - accuracy: 0.9910 - val_loss: 0.2166 - val_accuracy: 0.9743\n",
            "Epoch 1/20\n",
            "375/375 [==============================] - 1s 4ms/step - loss: 0.0364 - accuracy: 0.9918 - val_loss: 0.2236 - val_accuracy: 0.9732\n",
            "Epoch 2/20\n",
            "375/375 [==============================] - 1s 3ms/step - loss: 0.0312 - accuracy: 0.9933 - val_loss: 0.2299 - val_accuracy: 0.9744\n",
            "Epoch 3/20\n",
            "375/375 [==============================] - 1s 3ms/step - loss: 0.0269 - accuracy: 0.9940 - val_loss: 0.2743 - val_accuracy: 0.9737\n",
            "Epoch 4/20\n",
            "375/375 [==============================] - 1s 4ms/step - loss: 0.0252 - accuracy: 0.9945 - val_loss: 0.2866 - val_accuracy: 0.9732\n",
            "Epoch 5/20\n",
            "375/375 [==============================] - 2s 4ms/step - loss: 0.0251 - accuracy: 0.9939 - val_loss: 0.2421 - val_accuracy: 0.9762\n",
            "Epoch 6/20\n",
            "375/375 [==============================] - 1s 4ms/step - loss: 0.0245 - accuracy: 0.9946 - val_loss: 0.2903 - val_accuracy: 0.9747\n",
            "Epoch 7/20\n",
            "375/375 [==============================] - 1s 4ms/step - loss: 0.0229 - accuracy: 0.9949 - val_loss: 0.3418 - val_accuracy: 0.9726\n",
            "Epoch 8/20\n",
            "375/375 [==============================] - 1s 3ms/step - loss: 0.0223 - accuracy: 0.9957 - val_loss: 0.2894 - val_accuracy: 0.9747\n",
            "Epoch 9/20\n",
            "375/375 [==============================] - 1s 3ms/step - loss: 0.0177 - accuracy: 0.9960 - val_loss: 0.3192 - val_accuracy: 0.9718\n",
            "Epoch 10/20\n",
            "375/375 [==============================] - 1s 3ms/step - loss: 0.0157 - accuracy: 0.9964 - val_loss: 0.2812 - val_accuracy: 0.9763\n",
            "Epoch 11/20\n",
            "375/375 [==============================] - 1s 3ms/step - loss: 0.0140 - accuracy: 0.9970 - val_loss: 0.3066 - val_accuracy: 0.9776\n",
            "Epoch 12/20\n",
            "375/375 [==============================] - 1s 4ms/step - loss: 0.0161 - accuracy: 0.9964 - val_loss: 0.2899 - val_accuracy: 0.9765\n",
            "Epoch 13/20\n",
            "375/375 [==============================] - 1s 3ms/step - loss: 0.0114 - accuracy: 0.9974 - val_loss: 0.2836 - val_accuracy: 0.9787\n",
            "Epoch 14/20\n",
            "375/375 [==============================] - 2s 5ms/step - loss: 0.0103 - accuracy: 0.9972 - val_loss: 0.3398 - val_accuracy: 0.9765\n",
            "Epoch 15/20\n",
            "375/375 [==============================] - 1s 4ms/step - loss: 0.0131 - accuracy: 0.9971 - val_loss: 0.3290 - val_accuracy: 0.9762\n",
            "Epoch 16/20\n",
            "375/375 [==============================] - 1s 3ms/step - loss: 0.0114 - accuracy: 0.9976 - val_loss: 0.3441 - val_accuracy: 0.9758\n",
            "Epoch 17/20\n",
            "375/375 [==============================] - 1s 3ms/step - loss: 0.0100 - accuracy: 0.9979 - val_loss: 0.3350 - val_accuracy: 0.9762\n",
            "Epoch 18/20\n",
            "375/375 [==============================] - 1s 3ms/step - loss: 0.0108 - accuracy: 0.9976 - val_loss: 0.3255 - val_accuracy: 0.9767\n",
            "Epoch 19/20\n",
            "375/375 [==============================] - 1s 3ms/step - loss: 0.0097 - accuracy: 0.9980 - val_loss: 0.3431 - val_accuracy: 0.9753\n",
            "Epoch 20/20\n",
            "375/375 [==============================] - 1s 3ms/step - loss: 0.0085 - accuracy: 0.9982 - val_loss: 0.3146 - val_accuracy: 0.9772\n"
          ]
        }
      ],
      "source": [
        "model = keras.Sequential([\n",
        "    layers.Dense(512, activation=\"relu\"),\n",
        "    layers.Dense(10, activation=\"softmax\")\n",
        "])\n",
        "model.compile(optimizer=keras.optimizers.RMSprop(0.01),\n",
        "              loss=\"sparse_categorical_crossentropy\",\n",
        "              metrics=[\"accuracy\"])\n",
        "model.fit(train_images, train_labels,\n",
        "          epochs=10,\n",
        "          batch_size=128,\n",
        "          validation_split=0.2)\n",
        "histoy_model = model.fit(\n",
        "    train_images, train_labels,\n",
        "    epochs=20,\n",
        "    batch_size=128,\n",
        "    validation_split=0.2\n",
        ")"
      ]
    },
    {
      "cell_type": "markdown",
      "metadata": {
        "id": "abd-FF8_wgdJ"
      },
      "source": [
        "### Leveraging better architecture priors"
      ]
    },
    {
      "cell_type": "markdown",
      "metadata": {
        "id": "TwLwWOWKwgdK"
      },
      "source": [
        "### Increasing model capacity"
      ]
    },
    {
      "cell_type": "markdown",
      "metadata": {
        "id": "74kOI3MEwgdL"
      },
      "source": [
        "**A simple logistic regression on MNIST**"
      ]
    },
    {
      "cell_type": "code",
      "execution_count": 11,
      "metadata": {
        "id": "eUsfKs-gwgdL",
        "outputId": "60e8e425-a106-48bb-c2cb-73d1f98d9add",
        "colab": {
          "base_uri": "https://localhost:8080/"
        }
      },
      "outputs": [
        {
          "output_type": "stream",
          "name": "stdout",
          "text": [
            "Epoch 1/20\n",
            "375/375 [==============================] - 2s 3ms/step - loss: 0.6636 - accuracy: 0.8332 - val_loss: 0.3609 - val_accuracy: 0.9047\n",
            "Epoch 2/20\n",
            "375/375 [==============================] - 2s 4ms/step - loss: 0.3544 - accuracy: 0.9019 - val_loss: 0.3115 - val_accuracy: 0.9133\n",
            "Epoch 3/20\n",
            "375/375 [==============================] - 1s 3ms/step - loss: 0.3184 - accuracy: 0.9123 - val_loss: 0.2925 - val_accuracy: 0.9193\n",
            "Epoch 4/20\n",
            "375/375 [==============================] - 1s 3ms/step - loss: 0.3025 - accuracy: 0.9153 - val_loss: 0.2851 - val_accuracy: 0.9207\n",
            "Epoch 5/20\n",
            "375/375 [==============================] - 1s 3ms/step - loss: 0.2924 - accuracy: 0.9182 - val_loss: 0.2792 - val_accuracy: 0.9229\n",
            "Epoch 6/20\n",
            "375/375 [==============================] - 1s 3ms/step - loss: 0.2855 - accuracy: 0.9205 - val_loss: 0.2750 - val_accuracy: 0.9231\n",
            "Epoch 7/20\n",
            "375/375 [==============================] - 1s 3ms/step - loss: 0.2808 - accuracy: 0.9215 - val_loss: 0.2725 - val_accuracy: 0.9258\n",
            "Epoch 8/20\n",
            "375/375 [==============================] - 2s 4ms/step - loss: 0.2765 - accuracy: 0.9226 - val_loss: 0.2704 - val_accuracy: 0.9269\n",
            "Epoch 9/20\n",
            "375/375 [==============================] - 1s 3ms/step - loss: 0.2737 - accuracy: 0.9251 - val_loss: 0.2677 - val_accuracy: 0.9282\n",
            "Epoch 10/20\n",
            "375/375 [==============================] - 1s 3ms/step - loss: 0.2706 - accuracy: 0.9251 - val_loss: 0.2681 - val_accuracy: 0.9269\n",
            "Epoch 11/20\n",
            "375/375 [==============================] - 1s 3ms/step - loss: 0.2683 - accuracy: 0.9257 - val_loss: 0.2664 - val_accuracy: 0.9270\n",
            "Epoch 12/20\n",
            "375/375 [==============================] - 1s 4ms/step - loss: 0.2666 - accuracy: 0.9269 - val_loss: 0.2654 - val_accuracy: 0.9284\n",
            "Epoch 13/20\n",
            "375/375 [==============================] - 1s 4ms/step - loss: 0.2650 - accuracy: 0.9267 - val_loss: 0.2646 - val_accuracy: 0.9291\n",
            "Epoch 14/20\n",
            "375/375 [==============================] - 1s 3ms/step - loss: 0.2631 - accuracy: 0.9280 - val_loss: 0.2647 - val_accuracy: 0.9286\n",
            "Epoch 15/20\n",
            "375/375 [==============================] - 1s 3ms/step - loss: 0.2618 - accuracy: 0.9283 - val_loss: 0.2631 - val_accuracy: 0.9291\n",
            "Epoch 16/20\n",
            "375/375 [==============================] - 1s 3ms/step - loss: 0.2608 - accuracy: 0.9284 - val_loss: 0.2641 - val_accuracy: 0.9289\n",
            "Epoch 17/20\n",
            "375/375 [==============================] - 1s 3ms/step - loss: 0.2595 - accuracy: 0.9286 - val_loss: 0.2639 - val_accuracy: 0.9298\n",
            "Epoch 18/20\n",
            "375/375 [==============================] - 1s 3ms/step - loss: 0.2582 - accuracy: 0.9288 - val_loss: 0.2646 - val_accuracy: 0.9282\n",
            "Epoch 19/20\n",
            "375/375 [==============================] - 1s 3ms/step - loss: 0.2573 - accuracy: 0.9292 - val_loss: 0.2633 - val_accuracy: 0.9295\n",
            "Epoch 20/20\n",
            "375/375 [==============================] - 1s 3ms/step - loss: 0.2565 - accuracy: 0.9298 - val_loss: 0.2622 - val_accuracy: 0.9298\n"
          ]
        }
      ],
      "source": [
        "model = keras.Sequential([layers.Dense(10, activation=\"softmax\")])\n",
        "model.compile(optimizer=\"rmsprop\",\n",
        "              loss=\"sparse_categorical_crossentropy\",\n",
        "              metrics=[\"accuracy\"])\n",
        "history_small_model = model.fit(\n",
        "    train_images, train_labels,\n",
        "    epochs=20,\n",
        "    batch_size=128,\n",
        "    validation_split=0.2)"
      ]
    },
    {
      "cell_type": "code",
      "execution_count": 12,
      "metadata": {
        "id": "B1KFyVeHwgdL",
        "outputId": "7b603418-533b-4abd-8875-e9c6b8e3aa33",
        "colab": {
          "base_uri": "https://localhost:8080/",
          "height": 491
        }
      },
      "outputs": [
        {
          "output_type": "execute_result",
          "data": {
            "text/plain": [
              "<matplotlib.legend.Legend at 0x7f7b1f9d3df0>"
            ]
          },
          "metadata": {},
          "execution_count": 12
        },
        {
          "output_type": "display_data",
          "data": {
            "text/plain": [
              "<Figure size 640x480 with 1 Axes>"
            ],
            "image/png": "[encoded data removed]"
          },
          "metadata": {}
        }
      ],
      "source": [
        "import matplotlib.pyplot as plt\n",
        "val_loss = history_small_model.history[\"val_loss\"]\n",
        "epochs = range(1, 21)\n",
        "plt.plot(epochs, val_loss, \"b--\",\n",
        "         label=\"Validation loss\")\n",
        "plt.title(\"Effect of insufficient model capacity on validation loss\")\n",
        "plt.xlabel(\"Epochs\")\n",
        "plt.ylabel(\"Loss\")\n",
        "plt.legend()"
      ]
    },
    {
      "cell_type": "code",
      "execution_count": 11,
      "metadata": {
        "id": "c1PF5-QJwgdM",
        "outputId": "4f6fa39a-30d8-4f89-c53e-fc429ab49abe",
        "colab": {
          "base_uri": "https://localhost:8080/"
        }
      },
      "outputs": [
        {
          "output_type": "stream",
          "name": "stdout",
          "text": [
            "Epoch 1/20\n",
            "375/375 [==============================] - 2s 4ms/step - loss: 0.3705 - accuracy: 0.8963 - val_loss: 0.2376 - val_accuracy: 0.9306\n",
            "Epoch 2/20\n",
            "375/375 [==============================] - 1s 3ms/step - loss: 0.1662 - accuracy: 0.9508 - val_loss: 0.1361 - val_accuracy: 0.9613\n",
            "Epoch 3/20\n",
            "375/375 [==============================] - 1s 3ms/step - loss: 0.1181 - accuracy: 0.9658 - val_loss: 0.1211 - val_accuracy: 0.9649\n",
            "Epoch 4/20\n",
            "375/375 [==============================] - 1s 3ms/step - loss: 0.0920 - accuracy: 0.9715 - val_loss: 0.1093 - val_accuracy: 0.9675\n",
            "Epoch 5/20\n",
            "375/375 [==============================] - 2s 5ms/step - loss: 0.0738 - accuracy: 0.9777 - val_loss: 0.1039 - val_accuracy: 0.9695\n",
            "Epoch 6/20\n",
            "375/375 [==============================] - 1s 3ms/step - loss: 0.0604 - accuracy: 0.9817 - val_loss: 0.1209 - val_accuracy: 0.9664\n",
            "Epoch 7/20\n",
            "375/375 [==============================] - 1s 3ms/step - loss: 0.0492 - accuracy: 0.9850 - val_loss: 0.0908 - val_accuracy: 0.9746\n",
            "Epoch 8/20\n",
            "375/375 [==============================] - 1s 3ms/step - loss: 0.0414 - accuracy: 0.9870 - val_loss: 0.0951 - val_accuracy: 0.9745\n",
            "Epoch 9/20\n",
            "375/375 [==============================] - 1s 3ms/step - loss: 0.0347 - accuracy: 0.9890 - val_loss: 0.1043 - val_accuracy: 0.9715\n",
            "Epoch 10/20\n",
            "375/375 [==============================] - 1s 3ms/step - loss: 0.0291 - accuracy: 0.9910 - val_loss: 0.0977 - val_accuracy: 0.9750\n",
            "Epoch 11/20\n",
            "375/375 [==============================] - 1s 3ms/step - loss: 0.0252 - accuracy: 0.9923 - val_loss: 0.0950 - val_accuracy: 0.9752\n",
            "Epoch 12/20\n",
            "375/375 [==============================] - 1s 3ms/step - loss: 0.0206 - accuracy: 0.9940 - val_loss: 0.1010 - val_accuracy: 0.9740\n",
            "Epoch 13/20\n",
            "375/375 [==============================] - 1s 3ms/step - loss: 0.0181 - accuracy: 0.9944 - val_loss: 0.1074 - val_accuracy: 0.9742\n",
            "Epoch 14/20\n",
            "375/375 [==============================] - 1s 4ms/step - loss: 0.0154 - accuracy: 0.9953 - val_loss: 0.1219 - val_accuracy: 0.9704\n",
            "Epoch 15/20\n",
            "375/375 [==============================] - 2s 4ms/step - loss: 0.0127 - accuracy: 0.9962 - val_loss: 0.1173 - val_accuracy: 0.9747\n",
            "Epoch 16/20\n",
            "375/375 [==============================] - 1s 3ms/step - loss: 0.0110 - accuracy: 0.9966 - val_loss: 0.1135 - val_accuracy: 0.9752\n",
            "Epoch 17/20\n",
            "375/375 [==============================] - 1s 3ms/step - loss: 0.0091 - accuracy: 0.9973 - val_loss: 0.1106 - val_accuracy: 0.9770\n",
            "Epoch 18/20\n",
            "375/375 [==============================] - 1s 3ms/step - loss: 0.0082 - accuracy: 0.9973 - val_loss: 0.1292 - val_accuracy: 0.9736\n",
            "Epoch 19/20\n",
            "375/375 [==============================] - 1s 4ms/step - loss: 0.0071 - accuracy: 0.9976 - val_loss: 0.1256 - val_accuracy: 0.9764\n",
            "Epoch 20/20\n",
            "375/375 [==============================] - 1s 3ms/step - loss: 0.0059 - accuracy: 0.9980 - val_loss: 0.1222 - val_accuracy: 0.9758\n"
          ]
        }
      ],
      "source": [
        "model = keras.Sequential([\n",
        "    layers.Dense(96, activation=\"relu\"),\n",
        "    layers.Dense(96, activation=\"relu\"),\n",
        "    layers.Dense(10, activation=\"softmax\"),\n",
        "])\n",
        "model.compile(optimizer=\"rmsprop\",\n",
        "              loss=\"sparse_categorical_crossentropy\",\n",
        "              metrics=[\"accuracy\"])\n",
        "history_large_model = model.fit(\n",
        "    train_images, train_labels,\n",
        "    epochs=20,\n",
        "    batch_size=128,\n",
        "    validation_split=0.2)"
      ]
    },
    {
      "cell_type": "code",
      "source": [
        "import matplotlib.pyplot as plt\n",
        "val_small_loss = history_small_model.history[\"val_loss\"]\n",
        "val_large_loss = history_large_model.history[\"val_loss\"]\n",
        "val_original_loss = history_model.history[\"val_loss\"]\n",
        "epochs = range(1, 21)\n",
        "plt.plot(epochs, val_small_loss, \"b--\",\n",
        "         label = \"Validation small loss\")\n",
        "plt.plot(epochs, val_large_loss, \"r--\",\n",
        "         label = \"Validation large loss\")\n",
        "plt.plot(epochs, val_original_loss, \"g--\",\n",
        "         label = \"Validation original loss\")\n",
        "plt.title(\"Effect of inlarger model capacity on validation loss\")\n",
        "plt.xlabel(\"Epochs\")\n",
        "plt.ylabel(\"Loss\")\n",
        "plt.legend()"
      ],
      "metadata": {
        "id": "eUHJip30AHHe",
        "outputId": "6ab8c3a6-40ec-44fd-aced-5ce5bb331149",
        "colab": {
          "base_uri": "https://localhost:8080/",
          "height": 251
        }
      },
      "execution_count": 17,
      "outputs": [
        {
          "output_type": "error",
          "ename": "NameError",
          "evalue": "ignored",
          "traceback": [
            "\u001b[0;31m---------------------------------------------------------------------------\u001b[0m",
            "\u001b[0;31mNameError\u001b[0m                                 Traceback (most recent call last)",
            "\u001b[0;32m<ipython-input-17-0411faf6dff4>\u001b[0m in \u001b[0;36m<cell line: 3>\u001b[0;34m()\u001b[0m\n\u001b[1;32m      1\u001b[0m \u001b[0;32mimport\u001b[0m \u001b[0mmatplotlib\u001b[0m\u001b[0;34m.\u001b[0m\u001b[0mpyplot\u001b[0m \u001b[0;32mas\u001b[0m \u001b[0mplt\u001b[0m\u001b[0;34m\u001b[0m\u001b[0;34m\u001b[0m\u001b[0m\n\u001b[1;32m      2\u001b[0m \u001b[0mval_small_loss\u001b[0m \u001b[0;34m=\u001b[0m \u001b[0mhistory_small_model\u001b[0m\u001b[0;34m.\u001b[0m\u001b[0mhistory\u001b[0m\u001b[0;34m[\u001b[0m\u001b[0;34m\"val_loss\"\u001b[0m\u001b[0;34m]\u001b[0m\u001b[0;34m\u001b[0m\u001b[0;34m\u001b[0m\u001b[0m\n\u001b[0;32m----> 3\u001b[0;31m \u001b[0mval_large_loss\u001b[0m \u001b[0;34m=\u001b[0m \u001b[0mhistory_large_model\u001b[0m\u001b[0;34m.\u001b[0m\u001b[0mhistory\u001b[0m\u001b[0;34m[\u001b[0m\u001b[0;34m\"val_loss\"\u001b[0m\u001b[0;34m]\u001b[0m\u001b[0;34m\u001b[0m\u001b[0;34m\u001b[0m\u001b[0m\n\u001b[0m\u001b[1;32m      4\u001b[0m \u001b[0mval_original_loss\u001b[0m \u001b[0;34m=\u001b[0m \u001b[0mhistory_model\u001b[0m\u001b[0;34m.\u001b[0m\u001b[0mhistory\u001b[0m\u001b[0;34m[\u001b[0m\u001b[0;34m\"val_loss\"\u001b[0m\u001b[0;34m]\u001b[0m\u001b[0;34m\u001b[0m\u001b[0;34m\u001b[0m\u001b[0m\n\u001b[1;32m      5\u001b[0m \u001b[0mepochs\u001b[0m \u001b[0;34m=\u001b[0m \u001b[0mrange\u001b[0m\u001b[0;34m(\u001b[0m\u001b[0;36m1\u001b[0m\u001b[0;34m,\u001b[0m \u001b[0;36m21\u001b[0m\u001b[0;34m)\u001b[0m\u001b[0;34m\u001b[0m\u001b[0;34m\u001b[0m\u001b[0m\n",
            "\u001b[0;31mNameError\u001b[0m: name 'history_large_model' is not defined"
          ]
        }
      ]
    },
    {
      "cell_type": "markdown",
      "metadata": {
        "id": "O4pW8z0XwgdN"
      },
      "source": [
        "## Improving generalization"
      ]
    },
    {
      "cell_type": "markdown",
      "metadata": {
        "id": "KLM7wZ_XwgdN"
      },
      "source": [
        "### Dataset curation"
      ]
    },
    {
      "cell_type": "markdown",
      "metadata": {
        "id": "EzTqgpKewgdN"
      },
      "source": [
        "### Feature engineering"
      ]
    },
    {
      "cell_type": "markdown",
      "metadata": {
        "id": "K1ZUQICpwgdO"
      },
      "source": [
        "### Using early stopping"
      ]
    },
    {
      "cell_type": "markdown",
      "metadata": {
        "id": "-c5sWonkwgdO"
      },
      "source": [
        "### Regularizing your model"
      ]
    },
    {
      "cell_type": "markdown",
      "metadata": {
        "id": "GHTwnXPBwgdO"
      },
      "source": [
        "#### Reducing the network's size"
      ]
    },
    {
      "cell_type": "markdown",
      "metadata": {
        "id": "3N1x8wwNwgdP"
      },
      "source": [
        "**Original model**"
      ]
    },
    {
      "cell_type": "code",
      "execution_count": 13,
      "metadata": {
        "id": "Lafw5EGrwgdP",
        "outputId": "79bfdc41-e64a-4440-98c1-db8e2b8c53a0",
        "colab": {
          "base_uri": "https://localhost:8080/"
        }
      },
      "outputs": [
        {
          "output_type": "stream",
          "name": "stdout",
          "text": [
            "Epoch 1/20\n",
            "30/30 [==============================] - 3s 62ms/step - loss: 0.5292 - accuracy: 0.7695 - val_loss: 0.4053 - val_accuracy: 0.8570\n",
            "Epoch 2/20\n",
            "30/30 [==============================] - 1s 40ms/step - loss: 0.3271 - accuracy: 0.8933 - val_loss: 0.3181 - val_accuracy: 0.8793\n",
            "Epoch 3/20\n",
            "30/30 [==============================] - 1s 24ms/step - loss: 0.2454 - accuracy: 0.9201 - val_loss: 0.2842 - val_accuracy: 0.8888\n",
            "Epoch 4/20\n",
            "30/30 [==============================] - 1s 25ms/step - loss: 0.1988 - accuracy: 0.9349 - val_loss: 0.2755 - val_accuracy: 0.8897\n",
            "Epoch 5/20\n",
            "30/30 [==============================] - 1s 23ms/step - loss: 0.1675 - accuracy: 0.9449 - val_loss: 0.2968 - val_accuracy: 0.8822\n",
            "Epoch 6/20\n",
            "30/30 [==============================] - 1s 25ms/step - loss: 0.1422 - accuracy: 0.9544 - val_loss: 0.2908 - val_accuracy: 0.8840\n",
            "Epoch 7/20\n",
            "30/30 [==============================] - 1s 22ms/step - loss: 0.1245 - accuracy: 0.9610 - val_loss: 0.3016 - val_accuracy: 0.8835\n",
            "Epoch 8/20\n",
            "30/30 [==============================] - 1s 22ms/step - loss: 0.1077 - accuracy: 0.9667 - val_loss: 0.3168 - val_accuracy: 0.8813\n",
            "Epoch 9/20\n",
            "30/30 [==============================] - 1s 22ms/step - loss: 0.0934 - accuracy: 0.9728 - val_loss: 0.3230 - val_accuracy: 0.8819\n",
            "Epoch 10/20\n",
            "30/30 [==============================] - 1s 25ms/step - loss: 0.0812 - accuracy: 0.9777 - val_loss: 0.3733 - val_accuracy: 0.8732\n",
            "Epoch 11/20\n",
            "30/30 [==============================] - 1s 22ms/step - loss: 0.0708 - accuracy: 0.9811 - val_loss: 0.3647 - val_accuracy: 0.8774\n",
            "Epoch 12/20\n",
            "30/30 [==============================] - 1s 25ms/step - loss: 0.0639 - accuracy: 0.9825 - val_loss: 0.3805 - val_accuracy: 0.8777\n",
            "Epoch 13/20\n",
            "30/30 [==============================] - 1s 22ms/step - loss: 0.0546 - accuracy: 0.9855 - val_loss: 0.3996 - val_accuracy: 0.8771\n",
            "Epoch 14/20\n",
            "30/30 [==============================] - 1s 22ms/step - loss: 0.0473 - accuracy: 0.9885 - val_loss: 0.4228 - val_accuracy: 0.8757\n",
            "Epoch 15/20\n",
            "30/30 [==============================] - 1s 25ms/step - loss: 0.0414 - accuracy: 0.9904 - val_loss: 0.4462 - val_accuracy: 0.8733\n",
            "Epoch 16/20\n",
            "30/30 [==============================] - 1s 23ms/step - loss: 0.0349 - accuracy: 0.9926 - val_loss: 0.4707 - val_accuracy: 0.8721\n",
            "Epoch 17/20\n",
            "30/30 [==============================] - 1s 28ms/step - loss: 0.0316 - accuracy: 0.9943 - val_loss: 0.4888 - val_accuracy: 0.8717\n",
            "Epoch 18/20\n",
            "30/30 [==============================] - 1s 40ms/step - loss: 0.0276 - accuracy: 0.9951 - val_loss: 0.5160 - val_accuracy: 0.8707\n",
            "Epoch 19/20\n",
            "30/30 [==============================] - 1s 25ms/step - loss: 0.0244 - accuracy: 0.9953 - val_loss: 0.5361 - val_accuracy: 0.8704\n",
            "Epoch 20/20\n",
            "30/30 [==============================] - 1s 22ms/step - loss: 0.0198 - accuracy: 0.9973 - val_loss: 0.5620 - val_accuracy: 0.8690\n"
          ]
        }
      ],
      "source": [
        "from tensorflow.keras.datasets import imdb\n",
        "(train_data, train_labels), _ = imdb.load_data(num_words=10000)\n",
        "\n",
        "def vectorize_sequences(sequences, dimension=10000):\n",
        "    results = np.zeros((len(sequences), dimension))\n",
        "    for i, sequence in enumerate(sequences):\n",
        "        results[i, sequence] = 1.\n",
        "    return results\n",
        "train_data = vectorize_sequences(train_data)\n",
        "\n",
        "model = keras.Sequential([\n",
        "    layers.Dense(16, activation=\"relu\"),\n",
        "    layers.Dense(16, activation=\"relu\"),\n",
        "    layers.Dense(1, activation=\"sigmoid\")\n",
        "])\n",
        "model.compile(optimizer=\"rmsprop\",\n",
        "              loss=\"binary_crossentropy\",\n",
        "              metrics=[\"accuracy\"])\n",
        "history_original = model.fit(train_data, train_labels,\n",
        "                             epochs=20, batch_size=512, validation_split=0.4)"
      ]
    },
    {
      "cell_type": "markdown",
      "metadata": {
        "id": "tbcMjyjZwgdP"
      },
      "source": [
        "**Version of the model with lower capacity**"
      ]
    },
    {
      "cell_type": "code",
      "execution_count": 14,
      "metadata": {
        "id": "EVem1u_uwgdQ",
        "outputId": "f60ad597-aa91-4496-efb9-a3e8ab3ad8c9",
        "colab": {
          "base_uri": "https://localhost:8080/"
        }
      },
      "outputs": [
        {
          "output_type": "stream",
          "name": "stdout",
          "text": [
            "Epoch 1/20\n",
            "30/30 [==============================] - 3s 55ms/step - loss: 0.5960 - accuracy: 0.7504 - val_loss: 0.5160 - val_accuracy: 0.8371\n",
            "Epoch 2/20\n",
            "30/30 [==============================] - 1s 24ms/step - loss: 0.4571 - accuracy: 0.8681 - val_loss: 0.4298 - val_accuracy: 0.8702\n",
            "Epoch 3/20\n",
            "30/30 [==============================] - 1s 25ms/step - loss: 0.3705 - accuracy: 0.8958 - val_loss: 0.3702 - val_accuracy: 0.8787\n",
            "Epoch 4/20\n",
            "30/30 [==============================] - 1s 29ms/step - loss: 0.3096 - accuracy: 0.9125 - val_loss: 0.3374 - val_accuracy: 0.8807\n",
            "Epoch 5/20\n",
            "30/30 [==============================] - 1s 41ms/step - loss: 0.2654 - accuracy: 0.9241 - val_loss: 0.3137 - val_accuracy: 0.8841\n",
            "Epoch 6/20\n",
            "30/30 [==============================] - 1s 22ms/step - loss: 0.2318 - accuracy: 0.9338 - val_loss: 0.2935 - val_accuracy: 0.8880\n",
            "Epoch 7/20\n",
            "30/30 [==============================] - 1s 25ms/step - loss: 0.2053 - accuracy: 0.9418 - val_loss: 0.2885 - val_accuracy: 0.8855\n",
            "Epoch 8/20\n",
            "30/30 [==============================] - 1s 24ms/step - loss: 0.1825 - accuracy: 0.9480 - val_loss: 0.2770 - val_accuracy: 0.8911\n",
            "Epoch 9/20\n",
            "30/30 [==============================] - 1s 22ms/step - loss: 0.1639 - accuracy: 0.9531 - val_loss: 0.2770 - val_accuracy: 0.8898\n",
            "Epoch 10/20\n",
            "30/30 [==============================] - 1s 24ms/step - loss: 0.1473 - accuracy: 0.9596 - val_loss: 0.2760 - val_accuracy: 0.8881\n",
            "Epoch 11/20\n",
            "30/30 [==============================] - 1s 24ms/step - loss: 0.1328 - accuracy: 0.9643 - val_loss: 0.2806 - val_accuracy: 0.8858\n",
            "Epoch 12/20\n",
            "30/30 [==============================] - 1s 21ms/step - loss: 0.1200 - accuracy: 0.9679 - val_loss: 0.2828 - val_accuracy: 0.8859\n",
            "Epoch 13/20\n",
            "30/30 [==============================] - 1s 22ms/step - loss: 0.1077 - accuracy: 0.9725 - val_loss: 0.2882 - val_accuracy: 0.8871\n",
            "Epoch 14/20\n",
            "30/30 [==============================] - 1s 21ms/step - loss: 0.0975 - accuracy: 0.9765 - val_loss: 0.2994 - val_accuracy: 0.8846\n",
            "Epoch 15/20\n",
            "30/30 [==============================] - 1s 22ms/step - loss: 0.0880 - accuracy: 0.9802 - val_loss: 0.3025 - val_accuracy: 0.8844\n",
            "Epoch 16/20\n",
            "30/30 [==============================] - 1s 22ms/step - loss: 0.0798 - accuracy: 0.9819 - val_loss: 0.3101 - val_accuracy: 0.8840\n",
            "Epoch 17/20\n",
            "30/30 [==============================] - 1s 25ms/step - loss: 0.0719 - accuracy: 0.9853 - val_loss: 0.3267 - val_accuracy: 0.8823\n",
            "Epoch 18/20\n",
            "30/30 [==============================] - 1s 25ms/step - loss: 0.0649 - accuracy: 0.9875 - val_loss: 0.3325 - val_accuracy: 0.8834\n",
            "Epoch 19/20\n",
            "30/30 [==============================] - 1s 21ms/step - loss: 0.0586 - accuracy: 0.9887 - val_loss: 0.3412 - val_accuracy: 0.8806\n",
            "Epoch 20/20\n",
            "30/30 [==============================] - 1s 26ms/step - loss: 0.0530 - accuracy: 0.9899 - val_loss: 0.3518 - val_accuracy: 0.8799\n"
          ]
        }
      ],
      "source": [
        "model = keras.Sequential([\n",
        "    layers.Dense(4, activation=\"relu\"),\n",
        "    layers.Dense(4, activation=\"relu\"),\n",
        "    layers.Dense(1, activation=\"sigmoid\")\n",
        "])\n",
        "model.compile(optimizer=\"rmsprop\",\n",
        "              loss=\"binary_crossentropy\",\n",
        "              metrics=[\"accuracy\"])\n",
        "history_smaller_model = model.fit(\n",
        "    train_data, train_labels,\n",
        "    epochs=20, batch_size=512, validation_split=0.4)"
      ]
    },
    {
      "cell_type": "markdown",
      "metadata": {
        "id": "VIuiqffLwgdQ"
      },
      "source": [
        "**Version of the model with higher capacity**"
      ]
    },
    {
      "cell_type": "code",
      "execution_count": 15,
      "metadata": {
        "id": "M-z44UkpwgdQ",
        "outputId": "bbf99e6c-e157-4ab9-8193-f8bac9a5cf3f",
        "colab": {
          "base_uri": "https://localhost:8080/"
        }
      },
      "outputs": [
        {
          "output_type": "stream",
          "name": "stdout",
          "text": [
            "Epoch 1/20\n",
            "30/30 [==============================] - 3s 57ms/step - loss: 0.5617 - accuracy: 0.7581 - val_loss: 0.6525 - val_accuracy: 0.6745\n",
            "Epoch 2/20\n",
            "30/30 [==============================] - 1s 28ms/step - loss: 0.3207 - accuracy: 0.8679 - val_loss: 0.3494 - val_accuracy: 0.8516\n",
            "Epoch 3/20\n",
            "30/30 [==============================] - 1s 28ms/step - loss: 0.2396 - accuracy: 0.9067 - val_loss: 0.2754 - val_accuracy: 0.8876\n",
            "Epoch 4/20\n",
            "30/30 [==============================] - 1s 26ms/step - loss: 0.1856 - accuracy: 0.9285 - val_loss: 0.2776 - val_accuracy: 0.8909\n",
            "Epoch 5/20\n",
            "30/30 [==============================] - 1s 42ms/step - loss: 0.1506 - accuracy: 0.9441 - val_loss: 0.2748 - val_accuracy: 0.8881\n",
            "Epoch 6/20\n",
            "30/30 [==============================] - 1s 31ms/step - loss: 0.0934 - accuracy: 0.9690 - val_loss: 0.4906 - val_accuracy: 0.8455\n",
            "Epoch 7/20\n",
            "30/30 [==============================] - 1s 26ms/step - loss: 0.0996 - accuracy: 0.9652 - val_loss: 0.3144 - val_accuracy: 0.8858\n",
            "Epoch 8/20\n",
            "30/30 [==============================] - 1s 28ms/step - loss: 0.0595 - accuracy: 0.9807 - val_loss: 0.3363 - val_accuracy: 0.8861\n",
            "Epoch 9/20\n",
            "30/30 [==============================] - 1s 28ms/step - loss: 0.0187 - accuracy: 0.9957 - val_loss: 1.2197 - val_accuracy: 0.7402\n",
            "Epoch 10/20\n",
            "30/30 [==============================] - 1s 41ms/step - loss: 0.0436 - accuracy: 0.9867 - val_loss: 0.4467 - val_accuracy: 0.8832\n",
            "Epoch 11/20\n",
            "30/30 [==============================] - 1s 42ms/step - loss: 0.0775 - accuracy: 0.9817 - val_loss: 0.3548 - val_accuracy: 0.8834\n",
            "Epoch 12/20\n",
            "30/30 [==============================] - 1s 29ms/step - loss: 0.0072 - accuracy: 0.9998 - val_loss: 0.4770 - val_accuracy: 0.8836\n",
            "Epoch 13/20\n",
            "30/30 [==============================] - 1s 27ms/step - loss: 0.0024 - accuracy: 0.9999 - val_loss: 0.5593 - val_accuracy: 0.8836\n",
            "Epoch 14/20\n",
            "30/30 [==============================] - 1s 26ms/step - loss: 0.1033 - accuracy: 0.9795 - val_loss: 0.4428 - val_accuracy: 0.8774\n",
            "Epoch 15/20\n",
            "30/30 [==============================] - 1s 26ms/step - loss: 0.0038 - accuracy: 1.0000 - val_loss: 0.4989 - val_accuracy: 0.8840\n",
            "Epoch 16/20\n",
            "30/30 [==============================] - 1s 27ms/step - loss: 0.0014 - accuracy: 1.0000 - val_loss: 0.5733 - val_accuracy: 0.8832\n",
            "Epoch 17/20\n",
            "30/30 [==============================] - 1s 27ms/step - loss: 7.6344e-04 - accuracy: 1.0000 - val_loss: 0.6304 - val_accuracy: 0.8831\n",
            "Epoch 18/20\n",
            "30/30 [==============================] - 1s 27ms/step - loss: 4.9493e-04 - accuracy: 1.0000 - val_loss: 0.6677 - val_accuracy: 0.8824\n",
            "Epoch 19/20\n",
            "30/30 [==============================] - 1s 28ms/step - loss: 3.3223e-04 - accuracy: 1.0000 - val_loss: 0.6980 - val_accuracy: 0.8826\n",
            "Epoch 20/20\n",
            "30/30 [==============================] - 1s 28ms/step - loss: 2.5351e-04 - accuracy: 1.0000 - val_loss: 0.7188 - val_accuracy: 0.8824\n"
          ]
        }
      ],
      "source": [
        "model = keras.Sequential([\n",
        "    layers.Dense(512, activation=\"relu\"),\n",
        "    layers.Dense(512, activation=\"relu\"),\n",
        "    layers.Dense(1, activation=\"sigmoid\")\n",
        "])\n",
        "model.compile(optimizer=\"rmsprop\",\n",
        "              loss=\"binary_crossentropy\",\n",
        "              metrics=[\"accuracy\"])\n",
        "history_larger_model = model.fit(\n",
        "    train_data, train_labels,\n",
        "    epochs=20, batch_size=512, validation_split=0.4)"
      ]
    },
    {
      "cell_type": "markdown",
      "metadata": {
        "id": "p7aXZ1fEwgdR"
      },
      "source": [
        "#### Adding weight regularization"
      ]
    },
    {
      "cell_type": "markdown",
      "metadata": {
        "id": "BxT3kbJ1wgdR"
      },
      "source": [
        "**Adding L2 weight regularization to the model**"
      ]
    },
    {
      "cell_type": "code",
      "execution_count": 15,
      "metadata": {
        "id": "dRtkghRfwgdR",
        "outputId": "803d81a6-1fc6-4165-a588-e45776baba26",
        "colab": {
          "base_uri": "https://localhost:8080/"
        }
      },
      "outputs": [
        {
          "output_type": "stream",
          "name": "stdout",
          "text": [
            "Epoch 1/20\n",
            "30/30 [==============================] - 3s 55ms/step - loss: 0.6214 - accuracy: 0.7567 - val_loss: 0.4694 - val_accuracy: 0.8711\n",
            "Epoch 2/20\n",
            "30/30 [==============================] - 1s 24ms/step - loss: 0.4055 - accuracy: 0.8911 - val_loss: 0.3928 - val_accuracy: 0.8813\n",
            "Epoch 3/20\n",
            "30/30 [==============================] - 1s 21ms/step - loss: 0.3302 - accuracy: 0.9147 - val_loss: 0.3679 - val_accuracy: 0.8855\n",
            "Epoch 4/20\n",
            "30/30 [==============================] - 1s 24ms/step - loss: 0.2956 - accuracy: 0.9235 - val_loss: 0.3665 - val_accuracy: 0.8837\n",
            "Epoch 5/20\n",
            "30/30 [==============================] - 1s 22ms/step - loss: 0.2706 - accuracy: 0.9347 - val_loss: 0.3826 - val_accuracy: 0.8777\n",
            "Epoch 6/20\n",
            "30/30 [==============================] - 1s 22ms/step - loss: 0.2541 - accuracy: 0.9426 - val_loss: 0.3934 - val_accuracy: 0.8745\n",
            "Epoch 7/20\n",
            "30/30 [==============================] - 1s 24ms/step - loss: 0.2406 - accuracy: 0.9477 - val_loss: 0.3681 - val_accuracy: 0.8849\n",
            "Epoch 8/20\n",
            "30/30 [==============================] - 1s 22ms/step - loss: 0.2397 - accuracy: 0.9450 - val_loss: 0.3857 - val_accuracy: 0.8803\n",
            "Epoch 9/20\n",
            "30/30 [==============================] - 1s 24ms/step - loss: 0.2299 - accuracy: 0.9485 - val_loss: 0.4009 - val_accuracy: 0.8755\n",
            "Epoch 10/20\n",
            "30/30 [==============================] - 1s 24ms/step - loss: 0.2200 - accuracy: 0.9557 - val_loss: 0.3875 - val_accuracy: 0.8815\n",
            "Epoch 11/20\n",
            "30/30 [==============================] - 1s 25ms/step - loss: 0.2206 - accuracy: 0.9557 - val_loss: 0.3907 - val_accuracy: 0.8783\n",
            "Epoch 12/20\n",
            "30/30 [==============================] - 1s 30ms/step - loss: 0.2147 - accuracy: 0.9573 - val_loss: 0.4017 - val_accuracy: 0.8788\n",
            "Epoch 13/20\n",
            "30/30 [==============================] - 1s 28ms/step - loss: 0.2055 - accuracy: 0.9619 - val_loss: 0.4152 - val_accuracy: 0.8741\n",
            "Epoch 14/20\n",
            "30/30 [==============================] - 1s 27ms/step - loss: 0.2150 - accuracy: 0.9561 - val_loss: 0.4077 - val_accuracy: 0.8770\n",
            "Epoch 15/20\n",
            "30/30 [==============================] - 1s 24ms/step - loss: 0.2049 - accuracy: 0.9620 - val_loss: 0.4101 - val_accuracy: 0.8768\n",
            "Epoch 16/20\n",
            "30/30 [==============================] - 1s 22ms/step - loss: 0.1998 - accuracy: 0.9624 - val_loss: 0.4137 - val_accuracy: 0.8764\n",
            "Epoch 17/20\n",
            "30/30 [==============================] - 1s 24ms/step - loss: 0.2043 - accuracy: 0.9595 - val_loss: 0.4416 - val_accuracy: 0.8716\n",
            "Epoch 18/20\n",
            "30/30 [==============================] - 1s 21ms/step - loss: 0.1915 - accuracy: 0.9676 - val_loss: 0.4403 - val_accuracy: 0.8706\n",
            "Epoch 19/20\n",
            "30/30 [==============================] - 1s 22ms/step - loss: 0.2065 - accuracy: 0.9585 - val_loss: 0.4252 - val_accuracy: 0.8735\n",
            "Epoch 20/20\n",
            "30/30 [==============================] - 1s 22ms/step - loss: 0.1887 - accuracy: 0.9675 - val_loss: 0.4424 - val_accuracy: 0.8740\n"
          ]
        }
      ],
      "source": [
        "from tensorflow.keras import regularizers\n",
        "model = keras.Sequential([\n",
        "    layers.Dense(16,\n",
        "                 kernel_regularizer=regularizers.l2(0.002),\n",
        "                 activation=\"relu\"),\n",
        "    layers.Dense(16,\n",
        "                 kernel_regularizer=regularizers.l2(0.002),\n",
        "                 activation=\"relu\"),\n",
        "    layers.Dense(1, activation=\"sigmoid\")\n",
        "])\n",
        "model.compile(optimizer=\"rmsprop\",\n",
        "              loss=\"binary_crossentropy\",\n",
        "              metrics=[\"accuracy\"])\n",
        "history_l2_reg = model.fit(\n",
        "    train_data, train_labels,\n",
        "    epochs=20, batch_size=512, validation_split=0.4)"
      ]
    },
    {
      "cell_type": "markdown",
      "metadata": {
        "id": "avVHbsnvwgdR"
      },
      "source": [
        "**Different weight regularizers available in Keras**"
      ]
    },
    {
      "cell_type": "code",
      "execution_count": 16,
      "metadata": {
        "id": "7t2bRSFCwgdS",
        "outputId": "61075bb7-f4d6-49e0-d769-3dd4e97c3385",
        "colab": {
          "base_uri": "https://localhost:8080/"
        }
      },
      "outputs": [
        {
          "output_type": "execute_result",
          "data": {
            "text/plain": [
              "<keras.regularizers.L1L2 at 0x7f31ada1ee50>"
            ]
          },
          "metadata": {},
          "execution_count": 16
        }
      ],
      "source": [
        "from tensorflow.keras import regularizers\n",
        "regularizers.l1(0.001)\n",
        "regularizers.l1_l2(l1=0.001, l2=0.001)"
      ]
    },
    {
      "cell_type": "markdown",
      "metadata": {
        "id": "KZiAIkDqwgdS"
      },
      "source": [
        "#### Adding dropout"
      ]
    },
    {
      "cell_type": "markdown",
      "metadata": {
        "id": "GHrK-nQuwgdT"
      },
      "source": [
        "**Adding dropout to the IMDB model**"
      ]
    },
    {
      "cell_type": "code",
      "execution_count": 17,
      "metadata": {
        "id": "SqE0lyK2wgdT",
        "outputId": "9188c73d-a45c-48c9-8433-d5ef9626902f",
        "colab": {
          "base_uri": "https://localhost:8080/"
        }
      },
      "outputs": [
        {
          "output_type": "stream",
          "name": "stdout",
          "text": [
            "Epoch 1/20\n",
            "30/30 [==============================] - 3s 57ms/step - loss: 0.6477 - accuracy: 0.6217 - val_loss: 0.5756 - val_accuracy: 0.6845\n",
            "Epoch 2/20\n",
            "30/30 [==============================] - 1s 24ms/step - loss: 0.5509 - accuracy: 0.7832 - val_loss: 0.5072 - val_accuracy: 0.8604\n",
            "Epoch 3/20\n",
            "30/30 [==============================] - 1s 22ms/step - loss: 0.4849 - accuracy: 0.8421 - val_loss: 0.4502 - val_accuracy: 0.8644\n",
            "Epoch 4/20\n",
            "30/30 [==============================] - 1s 27ms/step - loss: 0.4302 - accuracy: 0.8697 - val_loss: 0.4065 - val_accuracy: 0.8794\n",
            "Epoch 5/20\n",
            "30/30 [==============================] - 1s 38ms/step - loss: 0.3834 - accuracy: 0.8871 - val_loss: 0.3839 - val_accuracy: 0.8782\n",
            "Epoch 6/20\n",
            "30/30 [==============================] - 1s 27ms/step - loss: 0.3464 - accuracy: 0.9010 - val_loss: 0.3531 - val_accuracy: 0.8802\n",
            "Epoch 7/20\n",
            "30/30 [==============================] - 1s 21ms/step - loss: 0.3100 - accuracy: 0.9167 - val_loss: 0.3865 - val_accuracy: 0.8707\n",
            "Epoch 8/20\n",
            "30/30 [==============================] - 1s 22ms/step - loss: 0.2760 - accuracy: 0.9226 - val_loss: 0.3669 - val_accuracy: 0.8780\n",
            "Epoch 9/20\n",
            "30/30 [==============================] - 1s 21ms/step - loss: 0.2482 - accuracy: 0.9328 - val_loss: 0.3294 - val_accuracy: 0.8811\n",
            "Epoch 10/20\n",
            "30/30 [==============================] - 1s 24ms/step - loss: 0.2228 - accuracy: 0.9409 - val_loss: 0.3528 - val_accuracy: 0.8792\n",
            "Epoch 11/20\n",
            "30/30 [==============================] - 1s 24ms/step - loss: 0.2009 - accuracy: 0.9481 - val_loss: 0.4250 - val_accuracy: 0.8727\n",
            "Epoch 12/20\n",
            "30/30 [==============================] - 1s 24ms/step - loss: 0.1857 - accuracy: 0.9485 - val_loss: 0.3524 - val_accuracy: 0.8784\n",
            "Epoch 13/20\n",
            "30/30 [==============================] - 1s 24ms/step - loss: 0.1643 - accuracy: 0.9547 - val_loss: 0.3955 - val_accuracy: 0.8772\n",
            "Epoch 14/20\n",
            "30/30 [==============================] - 1s 21ms/step - loss: 0.1468 - accuracy: 0.9591 - val_loss: 0.4333 - val_accuracy: 0.8770\n",
            "Epoch 15/20\n",
            "30/30 [==============================] - 1s 24ms/step - loss: 0.1334 - accuracy: 0.9629 - val_loss: 0.4145 - val_accuracy: 0.8775\n",
            "Epoch 16/20\n",
            "30/30 [==============================] - 1s 25ms/step - loss: 0.1221 - accuracy: 0.9656 - val_loss: 0.4792 - val_accuracy: 0.8760\n",
            "Epoch 17/20\n",
            "30/30 [==============================] - 1s 22ms/step - loss: 0.1128 - accuracy: 0.9682 - val_loss: 0.4720 - val_accuracy: 0.8779\n",
            "Epoch 18/20\n",
            "30/30 [==============================] - 1s 24ms/step - loss: 0.1028 - accuracy: 0.9733 - val_loss: 0.4976 - val_accuracy: 0.8779\n",
            "Epoch 19/20\n",
            "30/30 [==============================] - 1s 21ms/step - loss: 0.0972 - accuracy: 0.9731 - val_loss: 0.5376 - val_accuracy: 0.8754\n",
            "Epoch 20/20\n",
            "30/30 [==============================] - 1s 21ms/step - loss: 0.0895 - accuracy: 0.9756 - val_loss: 0.6713 - val_accuracy: 0.8704\n"
          ]
        }
      ],
      "source": [
        "model = keras.Sequential([\n",
        "    layers.Dense(16, activation=\"relu\"),\n",
        "    layers.Dropout(0.5),\n",
        "    layers.Dense(16, activation=\"relu\"),\n",
        "    layers.Dropout(0.5),\n",
        "    layers.Dense(1, activation=\"sigmoid\")\n",
        "])\n",
        "model.compile(optimizer=\"rmsprop\",\n",
        "              loss=\"binary_crossentropy\",\n",
        "              metrics=[\"accuracy\"])\n",
        "history_dropout = model.fit(\n",
        "    train_data, train_labels,\n",
        "    epochs=20, batch_size=512, validation_split=0.4)"
      ]
    },
    {
      "cell_type": "markdown",
      "metadata": {
        "id": "HfKVm5pcwgdU"
      },
      "source": [
        "## Summary"
      ]
    },
    {
      "cell_type": "code",
      "source": [],
      "metadata": {
        "id": "18WypFimy97a"
      },
      "execution_count": 17,
      "outputs": []
    }
  ],
  "metadata": {
    "colab": {
      "name": "chapter05_fundamentals-of-ml.i",
      "provenance": [],
      "toc_visible": true
    },
    "kernelspec": {
      "display_name": "Python 3",
      "language": "python",
      "name": "python3"
    },
    "language_info": {
      "codemirror_mode": {
        "name": "ipython",
        "version": 3
      },
      "file_extension": ".py",
      "mimetype": "text/x-python",
      "name": "python",
      "nbconvert_exporter": "python",
      "pygments_lexer": "ipython3",
      "version": "3.7.0"
    },
    "accelerator": "GPU",
    "gpuClass": "standard"
  },
  "nbformat": 4,
  "nbformat_minor": 0
}